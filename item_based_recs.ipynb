{
 "cells": [
  {
   "cell_type": "code",
   "id": "initial_id",
   "metadata": {
    "collapsed": true,
    "ExecuteTime": {
     "end_time": "2024-11-08T10:24:10.157557Z",
     "start_time": "2024-11-08T10:24:09.617956Z"
    }
   },
   "source": [
    "import numpy as np\n",
    "import pandas as pd\n",
    "from IPython.display import display\n"
   ],
   "outputs": [],
   "execution_count": 1
  },
  {
   "metadata": {
    "ExecuteTime": {
     "end_time": "2024-11-08T10:24:10.189967Z",
     "start_time": "2024-11-08T10:24:10.182559Z"
    }
   },
   "cell_type": "code",
   "source": [
    "# Входные данные\n",
    "input_data = np.array(\n",
    "    [\n",
    "        [5, 4, 5, 5, 5, 0, 5, 5, 4, 5, 5],\n",
    "        [5, 5, 3, 4, 5, 0, 5, 4, 4, 2, 5],\n",
    "        [5, 4, 4, 2, 5, 0, 5, 3, 3, 0, 3],\n",
    "        [5, 4, 3, 0, 3, 0, 5, 4, 3, 3, 5],\n",
    "        [5, 5, 4, 0, 0, 0, 5, 4, 4, 1, 5],\n",
    "        [5, 5, 5, 3, 1, 0, 5, 0, 4, 1, 0],\n",
    "    ],\n",
    "    dtype=float,\n",
    ")\n",
    "input_data"
   ],
   "id": "4047f01065900dc6",
   "outputs": [
    {
     "data": {
      "text/plain": [
       "array([[5., 4., 5., 5., 5., 0., 5., 5., 4., 5., 5.],\n",
       "       [5., 5., 3., 4., 5., 0., 5., 4., 4., 2., 5.],\n",
       "       [5., 4., 4., 2., 5., 0., 5., 3., 3., 0., 3.],\n",
       "       [5., 4., 3., 0., 3., 0., 5., 4., 3., 3., 5.],\n",
       "       [5., 5., 4., 0., 0., 0., 5., 4., 4., 1., 5.],\n",
       "       [5., 5., 5., 3., 1., 0., 5., 0., 4., 1., 0.]])"
      ]
     },
     "execution_count": 2,
     "metadata": {},
     "output_type": "execute_result"
    }
   ],
   "execution_count": 2
  },
  {
   "metadata": {},
   "cell_type": "markdown",
   "source": "# Формирование рекомендаций для пользователя, уже оценившего другие товары",
   "id": "290d0fff5a470a92"
  },
  {
   "metadata": {
    "ExecuteTime": {
     "end_time": "2024-11-08T10:24:10.334418Z",
     "start_time": "2024-11-08T10:24:10.332007Z"
    }
   },
   "cell_type": "code",
   "source": [
    "user_index = 3\n",
    "products_indices = [i for i in range(input_data.shape[0])]"
   ],
   "id": "22ad87f1bb2e526e",
   "outputs": [],
   "execution_count": 3
  },
  {
   "metadata": {
    "ExecuteTime": {
     "end_time": "2024-11-08T10:24:10.387184Z",
     "start_time": "2024-11-08T10:24:10.383349Z"
    }
   },
   "cell_type": "code",
   "source": [
    "# Не оцененные пользователем продукты.\n",
    "not_rated_products_indices = tuple(np.where(input_data[:, user_index] == 0)[0])\n",
    "not_rated_products_indices"
   ],
   "id": "67eb0dae67f8376d",
   "outputs": [
    {
     "data": {
      "text/plain": [
       "(np.int64(3), np.int64(4))"
      ]
     },
     "execution_count": 4,
     "metadata": {},
     "output_type": "execute_result"
    }
   ],
   "execution_count": 4
  },
  {
   "metadata": {
    "ExecuteTime": {
     "end_time": "2024-11-08T10:24:10.435921Z",
     "start_time": "2024-11-08T10:24:10.432557Z"
    }
   },
   "cell_type": "code",
   "source": [
    "def get_cosine_similarity(array_1: np.ndarray[int, int], array_2: np.ndarray[int, int]) -> float:\n",
    "    \"\"\"Функция подсчета косинусного подобия.\"\"\"\n",
    "    return np.dot(array_1, array_2) / (np.linalg.norm(array_1) * np.linalg.norm(array_2))\n",
    "\n",
    "\n",
    "def get_cosine_similarity_matrix() -> np.ndarray[[int, int], float]:\n",
    "    \"\"\"Получение матрицы схожести.\"\"\"\n",
    "    products_count = input_data.shape[0]\n",
    "    products_similarity_matrix: np.ndarray[(int, int), float] = np.full(\n",
    "        (products_count, products_count),\n",
    "        0,\n",
    "        dtype=float,\n",
    "    )\n",
    "\n",
    "    for i in range(products_count):\n",
    "        for j in range(products_count):\n",
    "            if i != j:\n",
    "                similarity_value = get_cosine_similarity(input_data[i], input_data[j])\n",
    "                products_similarity_matrix[i, j] = similarity_value\n",
    "\n",
    "    return products_similarity_matrix\n"
   ],
   "id": "2f6ff82cc45230fa",
   "outputs": [],
   "execution_count": 5
  },
  {
   "metadata": {
    "ExecuteTime": {
     "end_time": "2024-11-08T10:24:10.494184Z",
     "start_time": "2024-11-08T10:24:10.485228Z"
    }
   },
   "cell_type": "code",
   "source": [
    "# Получение матрицы косинусного подобия продуктов.\n",
    "similarity_matrix = get_cosine_similarity_matrix()\n",
    "display(pd.DataFrame(similarity_matrix))"
   ],
   "id": "e5ca31b4f4a346bb",
   "outputs": [
    {
     "data": {
      "text/plain": [
       "          0         1         2         3         4         5\n",
       "0  0.000000  0.967599  0.910970  0.922353  0.839049  0.792306\n",
       "1  0.967599  0.000000  0.961224  0.938138  0.877007  0.813302\n",
       "2  0.910970  0.961224  0.000000  0.918295  0.871721  0.853566\n",
       "3  0.922353  0.938138  0.918295  0.000000  0.945405  0.764306\n",
       "4  0.839049  0.877007  0.871721  0.945405  0.000000  0.814185\n",
       "5  0.792306  0.813302  0.853566  0.764306  0.814185  0.000000"
      ],
      "text/html": [
       "<div>\n",
       "<style scoped>\n",
       "    .dataframe tbody tr th:only-of-type {\n",
       "        vertical-align: middle;\n",
       "    }\n",
       "\n",
       "    .dataframe tbody tr th {\n",
       "        vertical-align: top;\n",
       "    }\n",
       "\n",
       "    .dataframe thead th {\n",
       "        text-align: right;\n",
       "    }\n",
       "</style>\n",
       "<table border=\"1\" class=\"dataframe\">\n",
       "  <thead>\n",
       "    <tr style=\"text-align: right;\">\n",
       "      <th></th>\n",
       "      <th>0</th>\n",
       "      <th>1</th>\n",
       "      <th>2</th>\n",
       "      <th>3</th>\n",
       "      <th>4</th>\n",
       "      <th>5</th>\n",
       "    </tr>\n",
       "  </thead>\n",
       "  <tbody>\n",
       "    <tr>\n",
       "      <th>0</th>\n",
       "      <td>0.000000</td>\n",
       "      <td>0.967599</td>\n",
       "      <td>0.910970</td>\n",
       "      <td>0.922353</td>\n",
       "      <td>0.839049</td>\n",
       "      <td>0.792306</td>\n",
       "    </tr>\n",
       "    <tr>\n",
       "      <th>1</th>\n",
       "      <td>0.967599</td>\n",
       "      <td>0.000000</td>\n",
       "      <td>0.961224</td>\n",
       "      <td>0.938138</td>\n",
       "      <td>0.877007</td>\n",
       "      <td>0.813302</td>\n",
       "    </tr>\n",
       "    <tr>\n",
       "      <th>2</th>\n",
       "      <td>0.910970</td>\n",
       "      <td>0.961224</td>\n",
       "      <td>0.000000</td>\n",
       "      <td>0.918295</td>\n",
       "      <td>0.871721</td>\n",
       "      <td>0.853566</td>\n",
       "    </tr>\n",
       "    <tr>\n",
       "      <th>3</th>\n",
       "      <td>0.922353</td>\n",
       "      <td>0.938138</td>\n",
       "      <td>0.918295</td>\n",
       "      <td>0.000000</td>\n",
       "      <td>0.945405</td>\n",
       "      <td>0.764306</td>\n",
       "    </tr>\n",
       "    <tr>\n",
       "      <th>4</th>\n",
       "      <td>0.839049</td>\n",
       "      <td>0.877007</td>\n",
       "      <td>0.871721</td>\n",
       "      <td>0.945405</td>\n",
       "      <td>0.000000</td>\n",
       "      <td>0.814185</td>\n",
       "    </tr>\n",
       "    <tr>\n",
       "      <th>5</th>\n",
       "      <td>0.792306</td>\n",
       "      <td>0.813302</td>\n",
       "      <td>0.853566</td>\n",
       "      <td>0.764306</td>\n",
       "      <td>0.814185</td>\n",
       "      <td>0.000000</td>\n",
       "    </tr>\n",
       "  </tbody>\n",
       "</table>\n",
       "</div>"
      ]
     },
     "metadata": {},
     "output_type": "display_data"
    }
   ],
   "execution_count": 6
  },
  {
   "metadata": {
    "ExecuteTime": {
     "end_time": "2024-11-08T10:24:10.526948Z",
     "start_time": "2024-11-08T10:24:10.524374Z"
    }
   },
   "cell_type": "code",
   "source": [
    "# Расчет среднего арифметического пользовательского рейтинга.\n",
    "avg_user_rating = input_data[np.nonzero(input_data[:, user_index]), user_index].mean()\n",
    "print(f'Средний пользовательский рейтинг пользователя #{user_index}: {avg_user_rating}')"
   ],
   "id": "4c8445ee8ef625a4",
   "outputs": [
    {
     "name": "stdout",
     "output_type": "stream",
     "text": [
      "Средний пользовательский рейтинг пользователя #3: 3.5\n"
     ]
    }
   ],
   "execution_count": 7
  },
  {
   "metadata": {
    "ExecuteTime": {
     "end_time": "2024-11-08T10:24:10.595311Z",
     "start_time": "2024-11-08T10:24:10.579464Z"
    }
   },
   "cell_type": "code",
   "source": [
    "for not_rated_product_index in not_rated_products_indices:\n",
    "    # Отсечение непохожих продуктов по пороговому значению.\n",
    "    min_similarity_value = 0.85\n",
    "    low_similarity_products = np.argwhere(similarity_matrix[not_rated_product_index, :] < min_similarity_value)\n",
    "    not_similar_products = low_similarity_products[\n",
    "                           ~np.all(low_similarity_products == not_rated_product_index, axis=1), :].T[0].tolist()\n",
    "    low_similarity_products = low_similarity_products.T[0].tolist()\n",
    "\n",
    "    # Поиск в матрице продуктов, которые также не были оценены пользователем.\n",
    "    products_without_rating_on_product = np.argwhere(input_data[:, user_index] == 0)\n",
    "    products_without_rating_on_product = products_without_rating_on_product.T[0].tolist()\n",
    "    products_without_rating_on_product.remove(not_rated_product_index)\n",
    "    rated_products_indices = [i for i in products_indices if i not in products_without_rating_on_product]\n",
    "\n",
    "    # Удаление из матрицы косинусного подобия непохожих / неоцененных продуктов.\n",
    "    indices_to_delete = list(set(not_similar_products + products_without_rating_on_product))\n",
    "    similar_products_similarity = np.delete(similarity_matrix, indices_to_delete, axis=1)\n",
    "    similar_products_similarity = np.delete(similar_products_similarity, indices_to_delete, axis=0)\n",
    "\n",
    "    products_indices_of_similarity_for_similar_products = [\n",
    "        i for i in rated_products_indices\n",
    "        if i not in not_similar_products\n",
    "    ]\n",
    "    product_index_in_similarity_matrix = products_indices_of_similarity_for_similar_products.index(\n",
    "        not_rated_product_index\n",
    "    )\n",
    "    display(\n",
    "        pd.DataFrame(\n",
    "            similar_products_similarity,\n",
    "            columns=products_indices_of_similarity_for_similar_products,\n",
    "            index=products_indices_of_similarity_for_similar_products,\n",
    "        )\n",
    "    )\n",
    "\n",
    "    similar_products_rankings = np.delete(input_data, indices_to_delete + [not_rated_product_index], axis=0)\n",
    "    similar_products_indices = [i for i in products_indices_of_similarity_for_similar_products if\n",
    "                                i != not_rated_product_index]\n",
    "    similar_products_user_rankings = similar_products_rankings[:, user_index]\n",
    "    display(pd.DataFrame(similar_products_user_rankings, columns=[user_index], index=similar_products_indices))\n",
    "\n",
    "    print(f'Продукт {not_rated_product_index}:')\n",
    "    cos_similarity = similar_products_similarity[np.nonzero(\n",
    "        similar_products_similarity[:, product_index_in_similarity_matrix]\n",
    "    ), product_index_in_similarity_matrix]\n",
    "    calculated_rating = np.sum(similar_products_user_rankings * cos_similarity) / np.sum(np.abs(cos_similarity))\n",
    "    print(f'Рассчитанная оценка: {calculated_rating}')\n",
    "    print(\n",
    "        f'Вердикт: {\"РЕКОМЕНДОВАН\" if calculated_rating > avg_user_rating else \"НЕ РЕКОМЕНДОВАН\"} '\n",
    "        f'пользователю #{user_index}.\\n'\n",
    "    )\n"
   ],
   "id": "b5835a82d4a9bef4",
   "outputs": [
    {
     "data": {
      "text/plain": [
       "          0         1         2         3\n",
       "0  0.000000  0.967599  0.910970  0.922353\n",
       "1  0.967599  0.000000  0.961224  0.938138\n",
       "2  0.910970  0.961224  0.000000  0.918295\n",
       "3  0.922353  0.938138  0.918295  0.000000"
      ],
      "text/html": [
       "<div>\n",
       "<style scoped>\n",
       "    .dataframe tbody tr th:only-of-type {\n",
       "        vertical-align: middle;\n",
       "    }\n",
       "\n",
       "    .dataframe tbody tr th {\n",
       "        vertical-align: top;\n",
       "    }\n",
       "\n",
       "    .dataframe thead th {\n",
       "        text-align: right;\n",
       "    }\n",
       "</style>\n",
       "<table border=\"1\" class=\"dataframe\">\n",
       "  <thead>\n",
       "    <tr style=\"text-align: right;\">\n",
       "      <th></th>\n",
       "      <th>0</th>\n",
       "      <th>1</th>\n",
       "      <th>2</th>\n",
       "      <th>3</th>\n",
       "    </tr>\n",
       "  </thead>\n",
       "  <tbody>\n",
       "    <tr>\n",
       "      <th>0</th>\n",
       "      <td>0.000000</td>\n",
       "      <td>0.967599</td>\n",
       "      <td>0.910970</td>\n",
       "      <td>0.922353</td>\n",
       "    </tr>\n",
       "    <tr>\n",
       "      <th>1</th>\n",
       "      <td>0.967599</td>\n",
       "      <td>0.000000</td>\n",
       "      <td>0.961224</td>\n",
       "      <td>0.938138</td>\n",
       "    </tr>\n",
       "    <tr>\n",
       "      <th>2</th>\n",
       "      <td>0.910970</td>\n",
       "      <td>0.961224</td>\n",
       "      <td>0.000000</td>\n",
       "      <td>0.918295</td>\n",
       "    </tr>\n",
       "    <tr>\n",
       "      <th>3</th>\n",
       "      <td>0.922353</td>\n",
       "      <td>0.938138</td>\n",
       "      <td>0.918295</td>\n",
       "      <td>0.000000</td>\n",
       "    </tr>\n",
       "  </tbody>\n",
       "</table>\n",
       "</div>"
      ]
     },
     "metadata": {},
     "output_type": "display_data"
    },
    {
     "data": {
      "text/plain": [
       "     3\n",
       "0  5.0\n",
       "1  4.0\n",
       "2  2.0"
      ],
      "text/html": [
       "<div>\n",
       "<style scoped>\n",
       "    .dataframe tbody tr th:only-of-type {\n",
       "        vertical-align: middle;\n",
       "    }\n",
       "\n",
       "    .dataframe tbody tr th {\n",
       "        vertical-align: top;\n",
       "    }\n",
       "\n",
       "    .dataframe thead th {\n",
       "        text-align: right;\n",
       "    }\n",
       "</style>\n",
       "<table border=\"1\" class=\"dataframe\">\n",
       "  <thead>\n",
       "    <tr style=\"text-align: right;\">\n",
       "      <th></th>\n",
       "      <th>3</th>\n",
       "    </tr>\n",
       "  </thead>\n",
       "  <tbody>\n",
       "    <tr>\n",
       "      <th>0</th>\n",
       "      <td>5.0</td>\n",
       "    </tr>\n",
       "    <tr>\n",
       "      <th>1</th>\n",
       "      <td>4.0</td>\n",
       "    </tr>\n",
       "    <tr>\n",
       "      <th>2</th>\n",
       "      <td>2.0</td>\n",
       "    </tr>\n",
       "  </tbody>\n",
       "</table>\n",
       "</div>"
      ]
     },
     "metadata": {},
     "output_type": "display_data"
    },
    {
     "name": "stdout",
     "output_type": "stream",
     "text": [
      "Продукт 3:\n",
      "Рассчитанная оценка: 3.6709943484403884\n",
      "Вердикт: РЕКОМЕНДОВАН пользователю #3.\n",
      "\n"
     ]
    },
    {
     "data": {
      "text/plain": [
       "          1         2         4\n",
       "1  0.000000  0.961224  0.877007\n",
       "2  0.961224  0.000000  0.871721\n",
       "4  0.877007  0.871721  0.000000"
      ],
      "text/html": [
       "<div>\n",
       "<style scoped>\n",
       "    .dataframe tbody tr th:only-of-type {\n",
       "        vertical-align: middle;\n",
       "    }\n",
       "\n",
       "    .dataframe tbody tr th {\n",
       "        vertical-align: top;\n",
       "    }\n",
       "\n",
       "    .dataframe thead th {\n",
       "        text-align: right;\n",
       "    }\n",
       "</style>\n",
       "<table border=\"1\" class=\"dataframe\">\n",
       "  <thead>\n",
       "    <tr style=\"text-align: right;\">\n",
       "      <th></th>\n",
       "      <th>1</th>\n",
       "      <th>2</th>\n",
       "      <th>4</th>\n",
       "    </tr>\n",
       "  </thead>\n",
       "  <tbody>\n",
       "    <tr>\n",
       "      <th>1</th>\n",
       "      <td>0.000000</td>\n",
       "      <td>0.961224</td>\n",
       "      <td>0.877007</td>\n",
       "    </tr>\n",
       "    <tr>\n",
       "      <th>2</th>\n",
       "      <td>0.961224</td>\n",
       "      <td>0.000000</td>\n",
       "      <td>0.871721</td>\n",
       "    </tr>\n",
       "    <tr>\n",
       "      <th>4</th>\n",
       "      <td>0.877007</td>\n",
       "      <td>0.871721</td>\n",
       "      <td>0.000000</td>\n",
       "    </tr>\n",
       "  </tbody>\n",
       "</table>\n",
       "</div>"
      ]
     },
     "metadata": {},
     "output_type": "display_data"
    },
    {
     "data": {
      "text/plain": [
       "     3\n",
       "1  4.0\n",
       "2  2.0"
      ],
      "text/html": [
       "<div>\n",
       "<style scoped>\n",
       "    .dataframe tbody tr th:only-of-type {\n",
       "        vertical-align: middle;\n",
       "    }\n",
       "\n",
       "    .dataframe tbody tr th {\n",
       "        vertical-align: top;\n",
       "    }\n",
       "\n",
       "    .dataframe thead th {\n",
       "        text-align: right;\n",
       "    }\n",
       "</style>\n",
       "<table border=\"1\" class=\"dataframe\">\n",
       "  <thead>\n",
       "    <tr style=\"text-align: right;\">\n",
       "      <th></th>\n",
       "      <th>3</th>\n",
       "    </tr>\n",
       "  </thead>\n",
       "  <tbody>\n",
       "    <tr>\n",
       "      <th>1</th>\n",
       "      <td>4.0</td>\n",
       "    </tr>\n",
       "    <tr>\n",
       "      <th>2</th>\n",
       "      <td>2.0</td>\n",
       "    </tr>\n",
       "  </tbody>\n",
       "</table>\n",
       "</div>"
      ]
     },
     "metadata": {},
     "output_type": "display_data"
    },
    {
     "name": "stdout",
     "output_type": "stream",
     "text": [
      "Продукт 4:\n",
      "Рассчитанная оценка: 3.0030231858536784\n",
      "Вердикт: НЕ РЕКОМЕНДОВАН пользователю #3.\n",
      "\n"
     ]
    }
   ],
   "execution_count": 8
  },
  {
   "metadata": {},
   "cell_type": "markdown",
   "source": "# Формирование рекомендаций для нового пользователя\n",
   "id": "b4d1b4df5ef6bf65"
  },
  {
   "metadata": {
    "ExecuteTime": {
     "end_time": "2024-11-08T10:24:10.807198Z",
     "start_time": "2024-11-08T10:24:10.804747Z"
    }
   },
   "cell_type": "code",
   "source": "user_index = 5",
   "id": "85602165e3ee4798",
   "outputs": [],
   "execution_count": 9
  },
  {
   "metadata": {
    "ExecuteTime": {
     "end_time": "2024-11-08T10:24:10.952068Z",
     "start_time": "2024-11-08T10:24:10.947703Z"
    }
   },
   "cell_type": "code",
   "source": [
    "# Заменяем 0 в матрице на NaN для того, чтобы значения не учитывались в расчете среднего значения рейтинга по продукту.\n",
    "nan_instead_zeros_input_data = input_data.copy()\n",
    "nan_instead_zeros_input_data[nan_instead_zeros_input_data == 0] = np.nan\n",
    "nan_instead_zeros_input_data"
   ],
   "id": "6a61fb9af36d970e",
   "outputs": [
    {
     "data": {
      "text/plain": [
       "array([[ 5.,  4.,  5.,  5.,  5., nan,  5.,  5.,  4.,  5.,  5.],\n",
       "       [ 5.,  5.,  3.,  4.,  5., nan,  5.,  4.,  4.,  2.,  5.],\n",
       "       [ 5.,  4.,  4.,  2.,  5., nan,  5.,  3.,  3., nan,  3.],\n",
       "       [ 5.,  4.,  3., nan,  3., nan,  5.,  4.,  3.,  3.,  5.],\n",
       "       [ 5.,  5.,  4., nan, nan, nan,  5.,  4.,  4.,  1.,  5.],\n",
       "       [ 5.,  5.,  5.,  3.,  1., nan,  5., nan,  4.,  1., nan]])"
      ]
     },
     "execution_count": 10,
     "metadata": {},
     "output_type": "execute_result"
    }
   ],
   "execution_count": 10
  },
  {
   "metadata": {
    "ExecuteTime": {
     "end_time": "2024-11-08T10:24:11.069985Z",
     "start_time": "2024-11-08T10:24:11.065478Z"
    }
   },
   "cell_type": "code",
   "source": [
    "# Получение массива средних значений рейтинга по продуктам.\n",
    "averages_products_rating = np.nanmean(nan_instead_zeros_input_data, axis=1)\n",
    "averages_products_rating"
   ],
   "id": "c9f7474588afd4f8",
   "outputs": [
    {
     "data": {
      "text/plain": [
       "array([4.8       , 4.2       , 3.77777778, 3.88888889, 4.125     ,\n",
       "       3.625     ])"
      ]
     },
     "execution_count": 11,
     "metadata": {},
     "output_type": "execute_result"
    }
   ],
   "execution_count": 11
  },
  {
   "metadata": {
    "ExecuteTime": {
     "end_time": "2024-11-08T10:24:11.202137Z",
     "start_time": "2024-11-08T10:24:11.198856Z"
    }
   },
   "cell_type": "code",
   "source": [
    "max_rated_product_index = np.argmax(averages_products_rating)\n",
    "print(f'Рекомендовать новому пользователю продукт #{max_rated_product_index} '\n",
    "      f'(средний рейтинг == {averages_products_rating[max_rated_product_index]}).')"
   ],
   "id": "97da22b45f762604",
   "outputs": [
    {
     "name": "stdout",
     "output_type": "stream",
     "text": [
      "Рекомендовать новому пользователю продукт #0 (средний рейтинг == 4.8).\n"
     ]
    }
   ],
   "execution_count": 12
  }
 ],
 "metadata": {
  "kernelspec": {
   "display_name": "Python 3",
   "language": "python",
   "name": "python3"
  },
  "language_info": {
   "codemirror_mode": {
    "name": "ipython",
    "version": 2
   },
   "file_extension": ".py",
   "mimetype": "text/x-python",
   "name": "python",
   "nbconvert_exporter": "python",
   "pygments_lexer": "ipython2",
   "version": "2.7.6"
  }
 },
 "nbformat": 4,
 "nbformat_minor": 5
}
