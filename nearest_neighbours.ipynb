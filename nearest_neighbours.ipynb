{
 "cells": [
  {
   "cell_type": "code",
   "execution_count": 1,
   "metadata": {},
   "outputs": [],
   "source": [
    "from IPython.display import display\n",
    "import numpy as np\n",
    "import pandas as pd\n"
   ]
  },
  {
   "cell_type": "code",
   "execution_count": 2,
   "metadata": {},
   "outputs": [],
   "source": [
    "def nearest_neighbours_clustering(similarity_matrix, cluster_size):\n",
    "  \"\"\"Функция объединения методом ближайшего соседа по заданному размеру кластера.\"\"\"\n",
    "\n",
    "  n = similarity_matrix.shape[0]\n",
    "  clusters = [[i] for i in range(n)]\n",
    "\n",
    "  merged_clusters = []\n",
    "  merged_matrices = []\n",
    "  merged_elements = []\n",
    "\n",
    "  while similarity_matrix.size > 1:\n",
    "    # Поиск максимального элемента\n",
    "    flatten_max_index = np.argmax(similarity_matrix)\n",
    "    i_best, j_best = divmod(int(flatten_max_index), n)\n",
    "\n",
    "    # Проверка на размер кластера\n",
    "    max_similarity = similarity_matrix[i_best, j_best]\n",
    "    if max_similarity < cluster_size:\n",
    "       break\n",
    "\n",
    "    # Обновление матрицы подобия\n",
    "    merged_matrix_shape = len(clusters) - 1\n",
    "    merged_matrix = np.full((merged_matrix_shape, merged_matrix_shape), -2.)\n",
    "    for k in range(merged_matrix_shape):\n",
    "      for l in range(k + 1, merged_matrix_shape):\n",
    "        if k == i_best:\n",
    "            merged_matrix[k][l] = max(\n",
    "               similarity_matrix[i_best][l + 1],\n",
    "               similarity_matrix[j_best][l + 1],\n",
    "            )\n",
    "        elif l == i_best:\n",
    "             merged_matrix[k][l] = max(\n",
    "               similarity_matrix[k][i_best],\n",
    "               similarity_matrix[k][j_best],\n",
    "            )\n",
    "        elif k < i_best:\n",
    "            merged_matrix[k][l] = similarity_matrix[k][l]\n",
    "        else:\n",
    "            merged_matrix[k][l] = similarity_matrix[k + 1][l + 1]\n",
    "\n",
    "    # Сохраняем, как этап объединения\n",
    "    merged_matrices.append(merged_matrix)\n",
    "    merged_elements.append((clusters[i_best], clusters[j_best]))\n",
    "\n",
    "    # Обновляем перечень кластеров в соответствии с новым объединением\n",
    "    clusters[i_best] = [*clusters[i_best], *clusters[j_best]]\n",
    "    clusters = [c for c in clusters if c != clusters[j_best]]\n",
    "    merged_clusters.append(list(clusters))\n",
    "\n",
    "    similarity_matrix = merged_matrix\n",
    "\n",
    "  return merged_matrices, merged_elements, merged_clusters\n"
   ]
  },
  {
   "cell_type": "code",
   "execution_count": 3,
   "metadata": {},
   "outputs": [
    {
     "data": {
      "text/plain": [
       "array([[-2.  ,  0.95,  0.9 ,  0.85,  0.8 ],\n",
       "       [-2.  , -2.  ,  0.75,  0.7 ,  0.65],\n",
       "       [-2.  , -2.  , -2.  ,  0.6 ,  0.8 ],\n",
       "       [-2.  , -2.  , -2.  , -2.  ,  0.7 ],\n",
       "       [-2.  , -2.  , -2.  , -2.  , -2.  ]])"
      ]
     },
     "execution_count": 3,
     "metadata": {},
     "output_type": "execute_result"
    }
   ],
   "source": [
    "# Входные данные\n",
    "input_data = np.array(\n",
    "  [\n",
    "    [-2, 0.95, 0.9, 0.85, 0.8],\n",
    "    [-2, -2, 0.75, 0.7, 0.65],\n",
    "    [-2, -2, -2, 0.6, 0.8],\n",
    "    [-2, -2, -2, -2, 0.7],\n",
    "    [-2, -2, -2, -2, -2],\n",
    "  ],\n",
    "  dtype=float,\n",
    ")\n",
    "input_data\n"
   ]
  },
  {
   "cell_type": "markdown",
   "metadata": {},
   "source": [
    "# Объединения по методу ближайших соседей"
   ]
  },
  {
   "cell_type": "code",
   "execution_count": 4,
   "metadata": {},
   "outputs": [
    {
     "data": {
      "text/plain": [
       "'Объединение 1: элементы ([0], [1])'"
      ]
     },
     "metadata": {},
     "output_type": "display_data"
    },
    {
     "data": {
      "text/html": [
       "<div>\n",
       "<style scoped>\n",
       "    .dataframe tbody tr th:only-of-type {\n",
       "        vertical-align: middle;\n",
       "    }\n",
       "\n",
       "    .dataframe tbody tr th {\n",
       "        vertical-align: top;\n",
       "    }\n",
       "\n",
       "    .dataframe thead th {\n",
       "        text-align: right;\n",
       "    }\n",
       "</style>\n",
       "<table border=\"1\" class=\"dataframe\">\n",
       "  <thead>\n",
       "    <tr style=\"text-align: right;\">\n",
       "      <th></th>\n",
       "      <th>[0, 1]</th>\n",
       "      <th>[2]</th>\n",
       "      <th>[3]</th>\n",
       "      <th>[4]</th>\n",
       "    </tr>\n",
       "  </thead>\n",
       "  <tbody>\n",
       "    <tr>\n",
       "      <th>[0, 1]</th>\n",
       "      <td>-2.0</td>\n",
       "      <td>0.9</td>\n",
       "      <td>0.85</td>\n",
       "      <td>0.8</td>\n",
       "    </tr>\n",
       "    <tr>\n",
       "      <th>[2]</th>\n",
       "      <td>-2.0</td>\n",
       "      <td>-2.0</td>\n",
       "      <td>0.60</td>\n",
       "      <td>0.8</td>\n",
       "    </tr>\n",
       "    <tr>\n",
       "      <th>[3]</th>\n",
       "      <td>-2.0</td>\n",
       "      <td>-2.0</td>\n",
       "      <td>-2.00</td>\n",
       "      <td>0.7</td>\n",
       "    </tr>\n",
       "    <tr>\n",
       "      <th>[4]</th>\n",
       "      <td>-2.0</td>\n",
       "      <td>-2.0</td>\n",
       "      <td>-2.00</td>\n",
       "      <td>-2.0</td>\n",
       "    </tr>\n",
       "  </tbody>\n",
       "</table>\n",
       "</div>"
      ],
      "text/plain": [
       "        [0, 1]  [2]   [3]  [4]\n",
       "[0, 1]    -2.0  0.9  0.85  0.8\n",
       "[2]       -2.0 -2.0  0.60  0.8\n",
       "[3]       -2.0 -2.0 -2.00  0.7\n",
       "[4]       -2.0 -2.0 -2.00 -2.0"
      ]
     },
     "metadata": {},
     "output_type": "display_data"
    },
    {
     "data": {
      "text/plain": [
       "'Объединение 2: элементы ([0, 1], [2])'"
      ]
     },
     "metadata": {},
     "output_type": "display_data"
    },
    {
     "data": {
      "text/html": [
       "<div>\n",
       "<style scoped>\n",
       "    .dataframe tbody tr th:only-of-type {\n",
       "        vertical-align: middle;\n",
       "    }\n",
       "\n",
       "    .dataframe tbody tr th {\n",
       "        vertical-align: top;\n",
       "    }\n",
       "\n",
       "    .dataframe thead th {\n",
       "        text-align: right;\n",
       "    }\n",
       "</style>\n",
       "<table border=\"1\" class=\"dataframe\">\n",
       "  <thead>\n",
       "    <tr style=\"text-align: right;\">\n",
       "      <th></th>\n",
       "      <th>[0, 1, 2]</th>\n",
       "      <th>[3]</th>\n",
       "      <th>[4]</th>\n",
       "    </tr>\n",
       "  </thead>\n",
       "  <tbody>\n",
       "    <tr>\n",
       "      <th>[0, 1, 2]</th>\n",
       "      <td>-2.0</td>\n",
       "      <td>0.85</td>\n",
       "      <td>0.8</td>\n",
       "    </tr>\n",
       "    <tr>\n",
       "      <th>[3]</th>\n",
       "      <td>-2.0</td>\n",
       "      <td>-2.00</td>\n",
       "      <td>0.7</td>\n",
       "    </tr>\n",
       "    <tr>\n",
       "      <th>[4]</th>\n",
       "      <td>-2.0</td>\n",
       "      <td>-2.00</td>\n",
       "      <td>-2.0</td>\n",
       "    </tr>\n",
       "  </tbody>\n",
       "</table>\n",
       "</div>"
      ],
      "text/plain": [
       "           [0, 1, 2]   [3]  [4]\n",
       "[0, 1, 2]       -2.0  0.85  0.8\n",
       "[3]             -2.0 -2.00  0.7\n",
       "[4]             -2.0 -2.00 -2.0"
      ]
     },
     "metadata": {},
     "output_type": "display_data"
    },
    {
     "data": {
      "text/plain": [
       "'Объединение 3: элементы ([0, 1, 2], [3])'"
      ]
     },
     "metadata": {},
     "output_type": "display_data"
    },
    {
     "data": {
      "text/html": [
       "<div>\n",
       "<style scoped>\n",
       "    .dataframe tbody tr th:only-of-type {\n",
       "        vertical-align: middle;\n",
       "    }\n",
       "\n",
       "    .dataframe tbody tr th {\n",
       "        vertical-align: top;\n",
       "    }\n",
       "\n",
       "    .dataframe thead th {\n",
       "        text-align: right;\n",
       "    }\n",
       "</style>\n",
       "<table border=\"1\" class=\"dataframe\">\n",
       "  <thead>\n",
       "    <tr style=\"text-align: right;\">\n",
       "      <th></th>\n",
       "      <th>[0, 1, 2, 3]</th>\n",
       "      <th>[4]</th>\n",
       "    </tr>\n",
       "  </thead>\n",
       "  <tbody>\n",
       "    <tr>\n",
       "      <th>[0, 1, 2, 3]</th>\n",
       "      <td>-2.0</td>\n",
       "      <td>0.8</td>\n",
       "    </tr>\n",
       "    <tr>\n",
       "      <th>[4]</th>\n",
       "      <td>-2.0</td>\n",
       "      <td>-2.0</td>\n",
       "    </tr>\n",
       "  </tbody>\n",
       "</table>\n",
       "</div>"
      ],
      "text/plain": [
       "              [0, 1, 2, 3]  [4]\n",
       "[0, 1, 2, 3]          -2.0  0.8\n",
       "[4]                   -2.0 -2.0"
      ]
     },
     "metadata": {},
     "output_type": "display_data"
    }
   ],
   "source": [
    "cluster_size = 0.85\n",
    "merged_matrices, merged_elements, merged_clusters = nearest_neighbours_clustering(input_data, cluster_size)\n",
    "\n",
    "for i, matrix in enumerate(merged_matrices):\n",
    "  display(f'Объединение {i + 1}: элементы {merged_elements[i]}')\n",
    "  index = [str(element) for element in merged_clusters[i]]\n",
    "  df = pd.DataFrame(matrix, index=index, columns=index)\n",
    "  display(df)\n"
   ]
  },
  {
   "cell_type": "markdown",
   "metadata": {},
   "source": [
    "# Проверка вычислений. Построение дендрограммы."
   ]
  },
  {
   "cell_type": "code",
   "execution_count": 5,
   "metadata": {},
   "outputs": [],
   "source": [
    "from scipy.cluster.hierarchy import linkage, dendrogram"
   ]
  },
  {
   "cell_type": "code",
   "execution_count": 6,
   "metadata": {},
   "outputs": [
    {
     "data": {
      "text/plain": [
       "array([0.95, 0.9 , 0.85, 0.8 , 0.75, 0.7 , 0.65, 0.6 , 0.8 , 0.7 ])"
      ]
     },
     "execution_count": 6,
     "metadata": {},
     "output_type": "execute_result"
    }
   ],
   "source": [
    "prepared_input_data = np.ravel(input_data)\n",
    "prepared_input_data = np.delete(\n",
    "    prepared_input_data,\n",
    "    np.argwhere(prepared_input_data == -2.),\n",
    ")\n",
    "prepared_input_data"
   ]
  },
  {
   "cell_type": "code",
   "execution_count": 7,
   "metadata": {},
   "outputs": [],
   "source": [
    "# Модуль scipy строит дендрограмму исходя из расстояний, а не абсолютных значений.\n",
    "prepared_input_data = 1. - prepared_input_data"
   ]
  },
  {
   "cell_type": "code",
   "execution_count": 8,
   "metadata": {},
   "outputs": [
    {
     "data": {
      "text/plain": [
       "{'icoord': [[35.0, 35.0, 45.0, 45.0],\n",
       "  [25.0, 25.0, 40.0, 40.0],\n",
       "  [15.0, 15.0, 32.5, 32.5],\n",
       "  [5.0, 5.0, 23.75, 23.75]],\n",
       " 'dcoord': [[0.0,\n",
       "   np.float64(0.050000000000000044),\n",
       "   np.float64(0.050000000000000044),\n",
       "   0.0],\n",
       "  [0.0,\n",
       "   np.float64(0.09999999999999998),\n",
       "   np.float64(0.09999999999999998),\n",
       "   np.float64(0.050000000000000044)],\n",
       "  [0.0,\n",
       "   np.float64(0.15000000000000002),\n",
       "   np.float64(0.15000000000000002),\n",
       "   np.float64(0.09999999999999998)],\n",
       "  [0.0,\n",
       "   np.float64(0.19999999999999996),\n",
       "   np.float64(0.19999999999999996),\n",
       "   np.float64(0.15000000000000002)]],\n",
       " 'ivl': ['4', '3', '2', '0', '1'],\n",
       " 'leaves': [4, 3, 2, 0, 1],\n",
       " 'color_list': ['C1', 'C1', 'C0', 'C0'],\n",
       " 'leaves_color_list': ['C0', 'C0', 'C1', 'C1', 'C1']}"
      ]
     },
     "execution_count": 8,
     "metadata": {},
     "output_type": "execute_result"
    },
    {
     "data": {
      "image/png": "[encoded data removed]",
      "text/plain": [
       "<Figure size 640x480 with 1 Axes>"
      ]
     },
     "metadata": {},
     "output_type": "display_data"
    }
   ],
   "source": [
    "dendrogram(linkage(prepared_input_data, method='single', metric='cosine'))"
   ]
  }
 ],
 "metadata": {
  "kernelspec": {
   "display_name": "venv",
   "language": "python",
   "name": "python3"
  },
  "language_info": {
   "codemirror_mode": {
    "name": "ipython",
    "version": 3
   },
   "file_extension": ".py",
   "mimetype": "text/x-python",
   "name": "python",
   "nbconvert_exporter": "python",
   "pygments_lexer": "ipython3",
   "version": "3.10.14"
  }
 },
 "nbformat": 4,
 "nbformat_minor": 2
}
