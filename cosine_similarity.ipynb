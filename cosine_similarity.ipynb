{
 "cells": [
  {
   "cell_type": "code",
   "execution_count": 1,
   "metadata": {},
   "outputs": [],
   "source": [
    "import numpy as np"
   ]
  },
  {
   "cell_type": "code",
   "execution_count": 2,
   "metadata": {},
   "outputs": [],
   "source": [
    "def get_cosine_similarity(array_1: np.ndarray[int, int], array_2: np.ndarray[int, int]) -> float:\n",
    "    \"\"\"Функция подсчета косинусного подобия.\"\"\"\n",
    "    return np.dot(array_1, array_2)/ (np.linalg.norm(array_1) * np.linalg.norm(array_2))"
   ]
  },
  {
   "cell_type": "code",
   "execution_count": 3,
   "metadata": {},
   "outputs": [
    {
     "data": {
      "text/plain": [
       "array([[5, 4, 5, 3, 5],\n",
       "       [5, 5, 5, 3, 5],\n",
       "       [5, 4, 4, 2, 5],\n",
       "       [5, 3, 5, 0, 3],\n",
       "       [5, 0, 5, 0, 0],\n",
       "       [4, 5, 5, 3, 1]])"
      ]
     },
     "execution_count": 3,
     "metadata": {},
     "output_type": "execute_result"
    }
   ],
   "source": [
    "input_data = np.array(\n",
    "    [\n",
    "        [5, 4, 5, 3, 5],\n",
    "        [5, 5, 5, 3, 5],\n",
    "        [5, 4, 4, 2, 5],\n",
    "        [5, 3, 5, 0, 3],\n",
    "        [5, 0, 5, 0, 0],\n",
    "        [4, 5, 5, 3, 1],\n",
    "    ],\n",
    "    dtype=int,\n",
    ")\n",
    "input_data"
   ]
  },
  {
   "cell_type": "code",
   "execution_count": 4,
   "metadata": {},
   "outputs": [
    {
     "data": {
      "text/plain": [
       "(6, 5)"
      ]
     },
     "execution_count": 4,
     "metadata": {},
     "output_type": "execute_result"
    }
   ],
   "source": [
    "products_count, users_count = input_data.shape\n",
    "products_count, users_count"
   ]
  },
  {
   "cell_type": "markdown",
   "metadata": {},
   "source": [
    "# Расчет близких продуктов"
   ]
  },
  {
   "cell_type": "code",
   "execution_count": 5,
   "metadata": {},
   "outputs": [
    {
     "data": {
      "text/plain": [
       "array([[-2.        ,  0.99613934,  0.99206151,  0.93376216,  0.70710678,\n",
       "         0.90619215],\n",
       "       [-2.        , -2.        ,  0.99153662,  0.92922799,  0.67728546,\n",
       "         0.92290976],\n",
       "       [-2.        , -2.        , -2.        ,  0.94151841,  0.68624357,\n",
       "         0.87821799],\n",
       "       [-2.        , -2.        , -2.        , -2.        ,  0.85749293,\n",
       "         0.87635344],\n",
       "       [-2.        , -2.        , -2.        , -2.        , -2.        ,\n",
       "         0.7299964 ],\n",
       "       [-2.        , -2.        , -2.        , -2.        , -2.        ,\n",
       "        -2.        ]])"
      ]
     },
     "execution_count": 5,
     "metadata": {},
     "output_type": "execute_result"
    }
   ],
   "source": [
    "products_similarity_matrix: np.ndarray[(int, int), float] = np.full(\n",
    "    (products_count, products_count),\n",
    "    -2,\n",
    "    dtype=float,\n",
    ")\n",
    "\n",
    "for i in range(products_count):\n",
    "    for j in range(i + 1, products_count):\n",
    "        similarity_value = get_cosine_similarity(input_data[i], input_data[j])\n",
    "        products_similarity_matrix[i, j] = similarity_value\n",
    "\n",
    "products_similarity_matrix"
   ]
  },
  {
   "cell_type": "code",
   "execution_count": 6,
   "metadata": {},
   "outputs": [
    {
     "name": "stdout",
     "output_type": "stream",
     "text": [
      "Лучшая пара продуктов: (0, 1)\n"
     ]
    }
   ],
   "source": [
    "products_flatten_max_index = np.argmax(products_similarity_matrix)\n",
    "products_indices = divmod(int(products_flatten_max_index), products_count)\n",
    "print('Лучшая пара продуктов:', products_indices)"
   ]
  },
  {
   "cell_type": "markdown",
   "metadata": {},
   "source": [
    "# Расчет близких пользователей"
   ]
  },
  {
   "cell_type": "code",
   "execution_count": 7,
   "metadata": {},
   "outputs": [
    {
     "data": {
      "text/plain": [
       "array([[-2.        ,  0.88281509,  0.9929078 ,  0.78652574,  0.85863549],\n",
       "       [-2.        , -2.        ,  0.89164324,  0.94138757,  0.89824939],\n",
       "       [-2.        , -2.        , -2.        ,  0.80165124,  0.82209781],\n",
       "       [-2.        , -2.        , -2.        , -2.        ,  0.83768   ],\n",
       "       [-2.        , -2.        , -2.        , -2.        , -2.        ]])"
      ]
     },
     "execution_count": 7,
     "metadata": {},
     "output_type": "execute_result"
    }
   ],
   "source": [
    "users_similarity_matrix: np.ndarray[(int, int), float] = np.full(\n",
    "    (users_count, users_count),\n",
    "    -2,\n",
    "    dtype=float,\n",
    ")\n",
    "\n",
    "users_input_data = input_data.transpose()\n",
    "\n",
    "for i in range(users_count):\n",
    "    for j in range(i + 1, users_count):\n",
    "        similarity_value = get_cosine_similarity(users_input_data[i], users_input_data[j])\n",
    "        users_similarity_matrix[i, j] = similarity_value\n",
    "\n",
    "users_similarity_matrix"
   ]
  },
  {
   "cell_type": "code",
   "execution_count": 8,
   "metadata": {},
   "outputs": [
    {
     "name": "stdout",
     "output_type": "stream",
     "text": [
      "Лучшая пара пользователей: (0, 2)\n"
     ]
    }
   ],
   "source": [
    "users_flatten_max_index = np.argmax(users_similarity_matrix)\n",
    "users_indices = divmod(int(users_flatten_max_index), users_count)\n",
    "print('Лучшая пара пользователей:', users_indices)"
   ]
  }
 ],
 "metadata": {
  "kernelspec": {
   "display_name": "venv",
   "language": "python",
   "name": "python3"
  },
  "language_info": {
   "codemirror_mode": {
    "name": "ipython",
    "version": 3
   },
   "file_extension": ".py",
   "mimetype": "text/x-python",
   "name": "python",
   "nbconvert_exporter": "python",
   "pygments_lexer": "ipython3",
   "version": "3.10.14"
  }
 },
 "nbformat": 4,
 "nbformat_minor": 2
}
