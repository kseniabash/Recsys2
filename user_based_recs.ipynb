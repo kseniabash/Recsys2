{
 "cells": [
  {
   "metadata": {
    "collapsed": true,
    "ExecuteTime": {
     "end_time": "2024-11-01T07:17:52.838605Z",
     "start_time": "2024-11-01T07:17:52.495Z"
    }
   },
   "cell_type": "code",
   "source": [
    "import numpy as np\n",
    "import pandas as pd\n"
   ],
   "id": "initial_id",
   "outputs": [],
   "execution_count": 1
  },
  {
   "metadata": {
    "ExecuteTime": {
     "end_time": "2024-11-01T07:17:52.861506Z",
     "start_time": "2024-11-01T07:17:52.855757Z"
    }
   },
   "cell_type": "code",
   "source": [
    "# Входные данные\n",
    "input_data = np.array(\n",
    "    [\n",
    "        [5, 4, 5, 3, 5, 0, 5, 5, 4, 3, 5],\n",
    "        [5, 5, 5, 3, 5, 0, 5, 4, 4, 2, 5],\n",
    "        [5, 4, 4, 2, 5, 0, 5, 3, 3, 0, 3],\n",
    "        [5, 3, 3, 0, 3, 0, 5, 4, 3, 3, 5],\n",
    "        [5, 0, 4, 0, 0, 0, 5, 4, 4, 1, 5],\n",
    "        [4, 5, 5, 3, 1, 0, 5, 0, 4, 1, 0],\n",
    "    ],\n",
    "    dtype=float,\n",
    ")\n",
    "input_data"
   ],
   "id": "bc2ffd92ecdc9243",
   "outputs": [
    {
     "data": {
      "text/plain": [
       "array([[5., 4., 5., 3., 5., 0., 5., 5., 4., 3., 5.],\n",
       "       [5., 5., 5., 3., 5., 0., 5., 4., 4., 2., 5.],\n",
       "       [5., 4., 4., 2., 5., 0., 5., 3., 3., 0., 3.],\n",
       "       [5., 3., 3., 0., 3., 0., 5., 4., 3., 3., 5.],\n",
       "       [5., 0., 4., 0., 0., 0., 5., 4., 4., 1., 5.],\n",
       "       [4., 5., 5., 3., 1., 0., 5., 0., 4., 1., 0.]])"
      ]
     },
     "execution_count": 2,
     "metadata": {},
     "output_type": "execute_result"
    }
   ],
   "execution_count": 2
  },
  {
   "metadata": {},
   "cell_type": "markdown",
   "source": "# Формирование рекомендаций для пользователя, уже оценившего другие товары\n",
   "id": "1f18ebbfdafcf4e9"
  },
  {
   "metadata": {
    "ExecuteTime": {
     "end_time": "2024-11-01T07:17:52.977340Z",
     "start_time": "2024-11-01T07:17:52.974298Z"
    }
   },
   "cell_type": "code",
   "source": [
    "user_index = 3\n",
    "users_indices = [i for i in range(input_data.shape[1])]"
   ],
   "id": "a57a7b36f24df805",
   "outputs": [],
   "execution_count": 3
  },
  {
   "metadata": {
    "ExecuteTime": {
     "end_time": "2024-11-01T07:17:53.022920Z",
     "start_time": "2024-11-01T07:17:53.018790Z"
    }
   },
   "cell_type": "code",
   "source": [
    "# Не оцененные пользователем продукты.\n",
    "not_rated_products_indices = tuple(np.where(input_data[:, user_index] == 0)[0])\n",
    "not_rated_products_indices"
   ],
   "id": "124fd54ec386aa22",
   "outputs": [
    {
     "data": {
      "text/plain": [
       "(np.int64(3), np.int64(4))"
      ]
     },
     "execution_count": 4,
     "metadata": {},
     "output_type": "execute_result"
    }
   ],
   "execution_count": 4
  },
  {
   "metadata": {
    "ExecuteTime": {
     "end_time": "2024-11-01T07:17:53.083128Z",
     "start_time": "2024-11-01T07:17:53.079156Z"
    }
   },
   "cell_type": "code",
   "source": [
    "# Поиск пользователей, которые также не оценили те же продукты.\n",
    "users_without_rating_on_product = np.argwhere(\n",
    "    np.all(input_data[not_rated_products_indices, :], axis=0) == 0\n",
    ")\n",
    "users_without_rating_on_product"
   ],
   "id": "e09f2b4a6f1fa45f",
   "outputs": [
    {
     "data": {
      "text/plain": [
       "array([[1],\n",
       "       [3],\n",
       "       [4],\n",
       "       [5]])"
      ]
     },
     "execution_count": 5,
     "metadata": {},
     "output_type": "execute_result"
    }
   ],
   "execution_count": 5
  },
  {
   "metadata": {
    "ExecuteTime": {
     "end_time": "2024-11-01T07:17:53.146905Z",
     "start_time": "2024-11-01T07:17:53.143756Z"
    }
   },
   "cell_type": "code",
   "source": [
    "# Исключаем пользователя из выборки тех, кто не оценил продукты.\n",
    "exclude_users = (\n",
    "    users_without_rating_on_product[~np.all(users_without_rating_on_product == user_index, axis=1), :]\n",
    ")\n",
    "exclude_users"
   ],
   "id": "cfcedbbf1a70eb46",
   "outputs": [
    {
     "data": {
      "text/plain": [
       "array([[1],\n",
       "       [4],\n",
       "       [5]])"
      ]
     },
     "execution_count": 6,
     "metadata": {},
     "output_type": "execute_result"
    }
   ],
   "execution_count": 6
  },
  {
   "metadata": {
    "ExecuteTime": {
     "end_time": "2024-11-01T07:17:53.197123Z",
     "start_time": "2024-11-01T07:17:53.187198Z"
    }
   },
   "cell_type": "code",
   "source": [
    "# Получение матрицы из оценок тех пользователей, кто оценил нужные товары.\n",
    "users_rankings_for_similarity = np.delete(input_data, exclude_users, axis=1)\n",
    "# Исключение индексов удаленных пользователей.\n",
    "users_indices_of_rankings_for_similarity = [i for i in users_indices if i not in exclude_users[:, 0]]\n",
    "# Получение матрицы оценок по тем продуктам, которые были оценены пользователем.\n",
    "pd.DataFrame(users_rankings_for_similarity, columns=users_indices_of_rankings_for_similarity)"
   ],
   "id": "259d579e0759d24c",
   "outputs": [
    {
     "data": {
      "text/plain": [
       "    0    2    3    6    7    8    9    10\n",
       "0  5.0  5.0  3.0  5.0  5.0  4.0  3.0  5.0\n",
       "1  5.0  5.0  3.0  5.0  4.0  4.0  2.0  5.0\n",
       "2  5.0  4.0  2.0  5.0  3.0  3.0  0.0  3.0\n",
       "3  5.0  3.0  0.0  5.0  4.0  3.0  3.0  5.0\n",
       "4  5.0  4.0  0.0  5.0  4.0  4.0  1.0  5.0\n",
       "5  4.0  5.0  3.0  5.0  0.0  4.0  1.0  0.0"
      ],
      "text/html": [
       "<div>\n",
       "<style scoped>\n",
       "    .dataframe tbody tr th:only-of-type {\n",
       "        vertical-align: middle;\n",
       "    }\n",
       "\n",
       "    .dataframe tbody tr th {\n",
       "        vertical-align: top;\n",
       "    }\n",
       "\n",
       "    .dataframe thead th {\n",
       "        text-align: right;\n",
       "    }\n",
       "</style>\n",
       "<table border=\"1\" class=\"dataframe\">\n",
       "  <thead>\n",
       "    <tr style=\"text-align: right;\">\n",
       "      <th></th>\n",
       "      <th>0</th>\n",
       "      <th>2</th>\n",
       "      <th>3</th>\n",
       "      <th>6</th>\n",
       "      <th>7</th>\n",
       "      <th>8</th>\n",
       "      <th>9</th>\n",
       "      <th>10</th>\n",
       "    </tr>\n",
       "  </thead>\n",
       "  <tbody>\n",
       "    <tr>\n",
       "      <th>0</th>\n",
       "      <td>5.0</td>\n",
       "      <td>5.0</td>\n",
       "      <td>3.0</td>\n",
       "      <td>5.0</td>\n",
       "      <td>5.0</td>\n",
       "      <td>4.0</td>\n",
       "      <td>3.0</td>\n",
       "      <td>5.0</td>\n",
       "    </tr>\n",
       "    <tr>\n",
       "      <th>1</th>\n",
       "      <td>5.0</td>\n",
       "      <td>5.0</td>\n",
       "      <td>3.0</td>\n",
       "      <td>5.0</td>\n",
       "      <td>4.0</td>\n",
       "      <td>4.0</td>\n",
       "      <td>2.0</td>\n",
       "      <td>5.0</td>\n",
       "    </tr>\n",
       "    <tr>\n",
       "      <th>2</th>\n",
       "      <td>5.0</td>\n",
       "      <td>4.0</td>\n",
       "      <td>2.0</td>\n",
       "      <td>5.0</td>\n",
       "      <td>3.0</td>\n",
       "      <td>3.0</td>\n",
       "      <td>0.0</td>\n",
       "      <td>3.0</td>\n",
       "    </tr>\n",
       "    <tr>\n",
       "      <th>3</th>\n",
       "      <td>5.0</td>\n",
       "      <td>3.0</td>\n",
       "      <td>0.0</td>\n",
       "      <td>5.0</td>\n",
       "      <td>4.0</td>\n",
       "      <td>3.0</td>\n",
       "      <td>3.0</td>\n",
       "      <td>5.0</td>\n",
       "    </tr>\n",
       "    <tr>\n",
       "      <th>4</th>\n",
       "      <td>5.0</td>\n",
       "      <td>4.0</td>\n",
       "      <td>0.0</td>\n",
       "      <td>5.0</td>\n",
       "      <td>4.0</td>\n",
       "      <td>4.0</td>\n",
       "      <td>1.0</td>\n",
       "      <td>5.0</td>\n",
       "    </tr>\n",
       "    <tr>\n",
       "      <th>5</th>\n",
       "      <td>4.0</td>\n",
       "      <td>5.0</td>\n",
       "      <td>3.0</td>\n",
       "      <td>5.0</td>\n",
       "      <td>0.0</td>\n",
       "      <td>4.0</td>\n",
       "      <td>1.0</td>\n",
       "      <td>0.0</td>\n",
       "    </tr>\n",
       "  </tbody>\n",
       "</table>\n",
       "</div>"
      ]
     },
     "execution_count": 7,
     "metadata": {},
     "output_type": "execute_result"
    }
   ],
   "execution_count": 7
  },
  {
   "metadata": {
    "ExecuteTime": {
     "end_time": "2024-11-01T07:17:53.291929Z",
     "start_time": "2024-11-01T07:17:53.287708Z"
    }
   },
   "cell_type": "code",
   "source": [
    "def get_cosine_similarity(array_1: np.ndarray[int, int], array_2: np.ndarray[int, int]) -> float:\n",
    "    \"\"\"Функция подсчета косинусного подобия.\"\"\"\n",
    "    return np.dot(array_1, array_2) / (np.linalg.norm(array_1) * np.linalg.norm(array_2))\n",
    "\n",
    "\n",
    "def get_cosine_similarity_matrix() -> np.ndarray[[int, int], float]:\n",
    "    \"\"\"Получение матрицы схожести.\"\"\"\n",
    "    users_count = users_rankings_for_similarity.shape[1]\n",
    "    users_similarity_matrix: np.ndarray[(int, int), float] = np.full(\n",
    "        (users_count, users_count),\n",
    "        0,\n",
    "        dtype=float,\n",
    "    )\n",
    "\n",
    "    users_input_data = users_rankings_for_similarity.T\n",
    "\n",
    "    for i in range(users_count):\n",
    "        for j in range(users_count):\n",
    "            if i != j:\n",
    "                similarity_value = get_cosine_similarity(users_input_data[i], users_input_data[j])\n",
    "                users_similarity_matrix[i, j] = similarity_value\n",
    "\n",
    "    return users_similarity_matrix\n"
   ],
   "id": "69d49de9c71bb971",
   "outputs": [],
   "execution_count": 8
  },
  {
   "metadata": {
    "ExecuteTime": {
     "end_time": "2024-11-01T07:17:53.363030Z",
     "start_time": "2024-11-01T07:17:53.354979Z"
    }
   },
   "cell_type": "code",
   "source": [
    "# Получение матрицы косинусного подобия пользователей.\n",
    "similarity_matrix = get_cosine_similarity_matrix()\n",
    "pd.DataFrame(similarity_matrix, columns=users_indices_of_rankings_for_similarity)"
   ],
   "id": "6b58f6ebf522a9c0",
   "outputs": [
    {
     "data": {
      "text/plain": [
       "         0         2         3         6         7         8         9   \\\n",
       "0  0.000000  0.977398  0.786526  0.997041  0.930001  0.985801  0.842327   \n",
       "1  0.977398  0.000000  0.883824  0.985527  0.871531  0.994571  0.814955   \n",
       "2  0.786526  0.883824  0.000000  0.806559  0.654525  0.833032  0.659912   \n",
       "3  0.997041  0.985527  0.806559  0.000000  0.901670  0.991837  0.833333   \n",
       "4  0.930001  0.871531  0.654525  0.901670  0.000000  0.890244  0.879128   \n",
       "5  0.985801  0.994571  0.833032  0.991837  0.890244  0.000000  0.834044   \n",
       "6  0.842327  0.814955  0.659912  0.833333  0.879128  0.834044  0.000000   \n",
       "7  0.927631  0.862640  0.619310  0.899371  0.994278  0.888503  0.879820   \n",
       "\n",
       "         10  \n",
       "0  0.927631  \n",
       "1  0.862640  \n",
       "2  0.619310  \n",
       "3  0.899371  \n",
       "4  0.994278  \n",
       "5  0.888503  \n",
       "6  0.879820  \n",
       "7  0.000000  "
      ],
      "text/html": [
       "<div>\n",
       "<style scoped>\n",
       "    .dataframe tbody tr th:only-of-type {\n",
       "        vertical-align: middle;\n",
       "    }\n",
       "\n",
       "    .dataframe tbody tr th {\n",
       "        vertical-align: top;\n",
       "    }\n",
       "\n",
       "    .dataframe thead th {\n",
       "        text-align: right;\n",
       "    }\n",
       "</style>\n",
       "<table border=\"1\" class=\"dataframe\">\n",
       "  <thead>\n",
       "    <tr style=\"text-align: right;\">\n",
       "      <th></th>\n",
       "      <th>0</th>\n",
       "      <th>2</th>\n",
       "      <th>3</th>\n",
       "      <th>6</th>\n",
       "      <th>7</th>\n",
       "      <th>8</th>\n",
       "      <th>9</th>\n",
       "      <th>10</th>\n",
       "    </tr>\n",
       "  </thead>\n",
       "  <tbody>\n",
       "    <tr>\n",
       "      <th>0</th>\n",
       "      <td>0.000000</td>\n",
       "      <td>0.977398</td>\n",
       "      <td>0.786526</td>\n",
       "      <td>0.997041</td>\n",
       "      <td>0.930001</td>\n",
       "      <td>0.985801</td>\n",
       "      <td>0.842327</td>\n",
       "      <td>0.927631</td>\n",
       "    </tr>\n",
       "    <tr>\n",
       "      <th>1</th>\n",
       "      <td>0.977398</td>\n",
       "      <td>0.000000</td>\n",
       "      <td>0.883824</td>\n",
       "      <td>0.985527</td>\n",
       "      <td>0.871531</td>\n",
       "      <td>0.994571</td>\n",
       "      <td>0.814955</td>\n",
       "      <td>0.862640</td>\n",
       "    </tr>\n",
       "    <tr>\n",
       "      <th>2</th>\n",
       "      <td>0.786526</td>\n",
       "      <td>0.883824</td>\n",
       "      <td>0.000000</td>\n",
       "      <td>0.806559</td>\n",
       "      <td>0.654525</td>\n",
       "      <td>0.833032</td>\n",
       "      <td>0.659912</td>\n",
       "      <td>0.619310</td>\n",
       "    </tr>\n",
       "    <tr>\n",
       "      <th>3</th>\n",
       "      <td>0.997041</td>\n",
       "      <td>0.985527</td>\n",
       "      <td>0.806559</td>\n",
       "      <td>0.000000</td>\n",
       "      <td>0.901670</td>\n",
       "      <td>0.991837</td>\n",
       "      <td>0.833333</td>\n",
       "      <td>0.899371</td>\n",
       "    </tr>\n",
       "    <tr>\n",
       "      <th>4</th>\n",
       "      <td>0.930001</td>\n",
       "      <td>0.871531</td>\n",
       "      <td>0.654525</td>\n",
       "      <td>0.901670</td>\n",
       "      <td>0.000000</td>\n",
       "      <td>0.890244</td>\n",
       "      <td>0.879128</td>\n",
       "      <td>0.994278</td>\n",
       "    </tr>\n",
       "    <tr>\n",
       "      <th>5</th>\n",
       "      <td>0.985801</td>\n",
       "      <td>0.994571</td>\n",
       "      <td>0.833032</td>\n",
       "      <td>0.991837</td>\n",
       "      <td>0.890244</td>\n",
       "      <td>0.000000</td>\n",
       "      <td>0.834044</td>\n",
       "      <td>0.888503</td>\n",
       "    </tr>\n",
       "    <tr>\n",
       "      <th>6</th>\n",
       "      <td>0.842327</td>\n",
       "      <td>0.814955</td>\n",
       "      <td>0.659912</td>\n",
       "      <td>0.833333</td>\n",
       "      <td>0.879128</td>\n",
       "      <td>0.834044</td>\n",
       "      <td>0.000000</td>\n",
       "      <td>0.879820</td>\n",
       "    </tr>\n",
       "    <tr>\n",
       "      <th>7</th>\n",
       "      <td>0.927631</td>\n",
       "      <td>0.862640</td>\n",
       "      <td>0.619310</td>\n",
       "      <td>0.899371</td>\n",
       "      <td>0.994278</td>\n",
       "      <td>0.888503</td>\n",
       "      <td>0.879820</td>\n",
       "      <td>0.000000</td>\n",
       "    </tr>\n",
       "  </tbody>\n",
       "</table>\n",
       "</div>"
      ]
     },
     "execution_count": 9,
     "metadata": {},
     "output_type": "execute_result"
    }
   ],
   "execution_count": 9
  },
  {
   "metadata": {
    "ExecuteTime": {
     "end_time": "2024-11-01T07:17:53.433075Z",
     "start_time": "2024-11-01T07:17:53.429379Z"
    }
   },
   "cell_type": "code",
   "source": [
    "# Поиск непохожих пользователей по пороговому значению.\n",
    "min_similarity_value = 0.8\n",
    "user_index_in_similarity_matrix = users_indices_of_rankings_for_similarity.index(user_index)\n",
    "not_similar_users = np.argwhere(similarity_matrix[user_index_in_similarity_matrix, :] < min_similarity_value)\n",
    "not_similar_users = not_similar_users[~np.all(not_similar_users == user_index_in_similarity_matrix, axis=1), :]\n",
    "not_similar_users"
   ],
   "id": "badf0e1496d4b0b4",
   "outputs": [
    {
     "data": {
      "text/plain": [
       "array([[0],\n",
       "       [4],\n",
       "       [6],\n",
       "       [7]])"
      ]
     },
     "execution_count": 10,
     "metadata": {},
     "output_type": "execute_result"
    }
   ],
   "execution_count": 10
  },
  {
   "metadata": {
    "ExecuteTime": {
     "end_time": "2024-11-01T07:17:53.515896Z",
     "start_time": "2024-11-01T07:17:53.509798Z"
    }
   },
   "cell_type": "code",
   "source": [
    "# Удаление из матрицы косинусного подобия непохожих пользователей.\n",
    "similar_users_similarity = np.delete(similarity_matrix, not_similar_users, axis=1)\n",
    "similar_users_similarity = np.delete(similar_users_similarity, not_similar_users, axis=0)\n",
    "users_indices_of_similarity_for_similar_users = [\n",
    "    elem for i, elem in enumerate(users_indices_of_rankings_for_similarity)\n",
    "    if i not in not_similar_users\n",
    "]\n",
    "pd.DataFrame(\n",
    "    similar_users_similarity,\n",
    "    columns=users_indices_of_similarity_for_similar_users,\n",
    "    index=users_indices_of_similarity_for_similar_users,\n",
    ")"
   ],
   "id": "fe3310d5327bf5a7",
   "outputs": [
    {
     "data": {
      "text/plain": [
       "          2         3         6         8\n",
       "2  0.000000  0.883824  0.985527  0.994571\n",
       "3  0.883824  0.000000  0.806559  0.833032\n",
       "6  0.985527  0.806559  0.000000  0.991837\n",
       "8  0.994571  0.833032  0.991837  0.000000"
      ],
      "text/html": [
       "<div>\n",
       "<style scoped>\n",
       "    .dataframe tbody tr th:only-of-type {\n",
       "        vertical-align: middle;\n",
       "    }\n",
       "\n",
       "    .dataframe tbody tr th {\n",
       "        vertical-align: top;\n",
       "    }\n",
       "\n",
       "    .dataframe thead th {\n",
       "        text-align: right;\n",
       "    }\n",
       "</style>\n",
       "<table border=\"1\" class=\"dataframe\">\n",
       "  <thead>\n",
       "    <tr style=\"text-align: right;\">\n",
       "      <th></th>\n",
       "      <th>2</th>\n",
       "      <th>3</th>\n",
       "      <th>6</th>\n",
       "      <th>8</th>\n",
       "    </tr>\n",
       "  </thead>\n",
       "  <tbody>\n",
       "    <tr>\n",
       "      <th>2</th>\n",
       "      <td>0.000000</td>\n",
       "      <td>0.883824</td>\n",
       "      <td>0.985527</td>\n",
       "      <td>0.994571</td>\n",
       "    </tr>\n",
       "    <tr>\n",
       "      <th>3</th>\n",
       "      <td>0.883824</td>\n",
       "      <td>0.000000</td>\n",
       "      <td>0.806559</td>\n",
       "      <td>0.833032</td>\n",
       "    </tr>\n",
       "    <tr>\n",
       "      <th>6</th>\n",
       "      <td>0.985527</td>\n",
       "      <td>0.806559</td>\n",
       "      <td>0.000000</td>\n",
       "      <td>0.991837</td>\n",
       "    </tr>\n",
       "    <tr>\n",
       "      <th>8</th>\n",
       "      <td>0.994571</td>\n",
       "      <td>0.833032</td>\n",
       "      <td>0.991837</td>\n",
       "      <td>0.000000</td>\n",
       "    </tr>\n",
       "  </tbody>\n",
       "</table>\n",
       "</div>"
      ]
     },
     "execution_count": 11,
     "metadata": {},
     "output_type": "execute_result"
    }
   ],
   "execution_count": 11
  },
  {
   "metadata": {
    "ExecuteTime": {
     "end_time": "2024-11-01T07:17:53.607065Z",
     "start_time": "2024-11-01T07:17:53.599209Z"
    }
   },
   "cell_type": "code",
   "source": [
    "# Матрица предпочтений пользователей, которые оценили товары, не оцененные пользователем.\n",
    "users_rankings = np.delete(input_data, users_without_rating_on_product, axis=1)\n",
    "users_indices_of_user_rankings = [i for i in users_indices if i not in users_without_rating_on_product]\n",
    "pd.DataFrame(users_rankings, columns=users_indices_of_user_rankings)"
   ],
   "id": "4ca2777870afca8",
   "outputs": [
    {
     "data": {
      "text/plain": [
       "    0    2    6    7    8    9    10\n",
       "0  5.0  5.0  5.0  5.0  4.0  3.0  5.0\n",
       "1  5.0  5.0  5.0  4.0  4.0  2.0  5.0\n",
       "2  5.0  4.0  5.0  3.0  3.0  0.0  3.0\n",
       "3  5.0  3.0  5.0  4.0  3.0  3.0  5.0\n",
       "4  5.0  4.0  5.0  4.0  4.0  1.0  5.0\n",
       "5  4.0  5.0  5.0  0.0  4.0  1.0  0.0"
      ],
      "text/html": [
       "<div>\n",
       "<style scoped>\n",
       "    .dataframe tbody tr th:only-of-type {\n",
       "        vertical-align: middle;\n",
       "    }\n",
       "\n",
       "    .dataframe tbody tr th {\n",
       "        vertical-align: top;\n",
       "    }\n",
       "\n",
       "    .dataframe thead th {\n",
       "        text-align: right;\n",
       "    }\n",
       "</style>\n",
       "<table border=\"1\" class=\"dataframe\">\n",
       "  <thead>\n",
       "    <tr style=\"text-align: right;\">\n",
       "      <th></th>\n",
       "      <th>0</th>\n",
       "      <th>2</th>\n",
       "      <th>6</th>\n",
       "      <th>7</th>\n",
       "      <th>8</th>\n",
       "      <th>9</th>\n",
       "      <th>10</th>\n",
       "    </tr>\n",
       "  </thead>\n",
       "  <tbody>\n",
       "    <tr>\n",
       "      <th>0</th>\n",
       "      <td>5.0</td>\n",
       "      <td>5.0</td>\n",
       "      <td>5.0</td>\n",
       "      <td>5.0</td>\n",
       "      <td>4.0</td>\n",
       "      <td>3.0</td>\n",
       "      <td>5.0</td>\n",
       "    </tr>\n",
       "    <tr>\n",
       "      <th>1</th>\n",
       "      <td>5.0</td>\n",
       "      <td>5.0</td>\n",
       "      <td>5.0</td>\n",
       "      <td>4.0</td>\n",
       "      <td>4.0</td>\n",
       "      <td>2.0</td>\n",
       "      <td>5.0</td>\n",
       "    </tr>\n",
       "    <tr>\n",
       "      <th>2</th>\n",
       "      <td>5.0</td>\n",
       "      <td>4.0</td>\n",
       "      <td>5.0</td>\n",
       "      <td>3.0</td>\n",
       "      <td>3.0</td>\n",
       "      <td>0.0</td>\n",
       "      <td>3.0</td>\n",
       "    </tr>\n",
       "    <tr>\n",
       "      <th>3</th>\n",
       "      <td>5.0</td>\n",
       "      <td>3.0</td>\n",
       "      <td>5.0</td>\n",
       "      <td>4.0</td>\n",
       "      <td>3.0</td>\n",
       "      <td>3.0</td>\n",
       "      <td>5.0</td>\n",
       "    </tr>\n",
       "    <tr>\n",
       "      <th>4</th>\n",
       "      <td>5.0</td>\n",
       "      <td>4.0</td>\n",
       "      <td>5.0</td>\n",
       "      <td>4.0</td>\n",
       "      <td>4.0</td>\n",
       "      <td>1.0</td>\n",
       "      <td>5.0</td>\n",
       "    </tr>\n",
       "    <tr>\n",
       "      <th>5</th>\n",
       "      <td>4.0</td>\n",
       "      <td>5.0</td>\n",
       "      <td>5.0</td>\n",
       "      <td>0.0</td>\n",
       "      <td>4.0</td>\n",
       "      <td>1.0</td>\n",
       "      <td>0.0</td>\n",
       "    </tr>\n",
       "  </tbody>\n",
       "</table>\n",
       "</div>"
      ]
     },
     "execution_count": 12,
     "metadata": {},
     "output_type": "execute_result"
    }
   ],
   "execution_count": 12
  },
  {
   "metadata": {
    "ExecuteTime": {
     "end_time": "2024-11-01T07:17:53.711992Z",
     "start_time": "2024-11-01T07:17:53.705892Z"
    }
   },
   "cell_type": "code",
   "source": [
    "# Матрица предпочтений похожих пользователей, которые оценили товар.\n",
    "not_similar_users_from_rankings = [\n",
    "    i for i, elem in enumerate(users_indices_of_user_rankings)\n",
    "    if elem not in users_indices_of_similarity_for_similar_users\n",
    "]\n",
    "users_indices_of_similarity_for_similar_users = [i for i in users_indices_of_similarity_for_similar_users if\n",
    "                                                 i != user_index]\n",
    "\n",
    "similar_users_rankings = np.delete(users_rankings, not_similar_users_from_rankings, axis=1)\n",
    "pd.DataFrame(similar_users_rankings, columns=users_indices_of_similarity_for_similar_users)"
   ],
   "id": "cb8fb90eb69649ed",
   "outputs": [
    {
     "data": {
      "text/plain": [
       "     2    6    8\n",
       "0  5.0  5.0  4.0\n",
       "1  5.0  5.0  4.0\n",
       "2  4.0  5.0  3.0\n",
       "3  3.0  5.0  3.0\n",
       "4  4.0  5.0  4.0\n",
       "5  5.0  5.0  4.0"
      ],
      "text/html": [
       "<div>\n",
       "<style scoped>\n",
       "    .dataframe tbody tr th:only-of-type {\n",
       "        vertical-align: middle;\n",
       "    }\n",
       "\n",
       "    .dataframe tbody tr th {\n",
       "        vertical-align: top;\n",
       "    }\n",
       "\n",
       "    .dataframe thead th {\n",
       "        text-align: right;\n",
       "    }\n",
       "</style>\n",
       "<table border=\"1\" class=\"dataframe\">\n",
       "  <thead>\n",
       "    <tr style=\"text-align: right;\">\n",
       "      <th></th>\n",
       "      <th>2</th>\n",
       "      <th>6</th>\n",
       "      <th>8</th>\n",
       "    </tr>\n",
       "  </thead>\n",
       "  <tbody>\n",
       "    <tr>\n",
       "      <th>0</th>\n",
       "      <td>5.0</td>\n",
       "      <td>5.0</td>\n",
       "      <td>4.0</td>\n",
       "    </tr>\n",
       "    <tr>\n",
       "      <th>1</th>\n",
       "      <td>5.0</td>\n",
       "      <td>5.0</td>\n",
       "      <td>4.0</td>\n",
       "    </tr>\n",
       "    <tr>\n",
       "      <th>2</th>\n",
       "      <td>4.0</td>\n",
       "      <td>5.0</td>\n",
       "      <td>3.0</td>\n",
       "    </tr>\n",
       "    <tr>\n",
       "      <th>3</th>\n",
       "      <td>3.0</td>\n",
       "      <td>5.0</td>\n",
       "      <td>3.0</td>\n",
       "    </tr>\n",
       "    <tr>\n",
       "      <th>4</th>\n",
       "      <td>4.0</td>\n",
       "      <td>5.0</td>\n",
       "      <td>4.0</td>\n",
       "    </tr>\n",
       "    <tr>\n",
       "      <th>5</th>\n",
       "      <td>5.0</td>\n",
       "      <td>5.0</td>\n",
       "      <td>4.0</td>\n",
       "    </tr>\n",
       "  </tbody>\n",
       "</table>\n",
       "</div>"
      ]
     },
     "execution_count": 13,
     "metadata": {},
     "output_type": "execute_result"
    }
   ],
   "execution_count": 13
  },
  {
   "metadata": {
    "ExecuteTime": {
     "end_time": "2024-11-01T07:17:53.848538Z",
     "start_time": "2024-11-01T07:17:53.845931Z"
    }
   },
   "cell_type": "code",
   "source": [
    "# Расчет среднего арифметического пользовательского рейтинга.\n",
    "avg_user_rating = input_data[np.nonzero(input_data[:, user_index]), user_index].mean()\n",
    "print(f'Средний пользовательский рейтинг пользователя #{user_index}: {avg_user_rating}')"
   ],
   "id": "4135698d2e6971ee",
   "outputs": [
    {
     "name": "stdout",
     "output_type": "stream",
     "text": [
      "Средний пользовательский рейтинг пользователя #3: 2.75\n"
     ]
    }
   ],
   "execution_count": 14
  },
  {
   "metadata": {
    "ExecuteTime": {
     "end_time": "2024-11-01T07:17:53.982716Z",
     "start_time": "2024-11-01T07:17:53.978357Z"
    }
   },
   "cell_type": "code",
   "source": [
    "# Рекомендуем пользователю неоцененные товары, если расчетный рейтинг >= среднему рейтингу товаров пользователя.\n",
    "for not_rated_product_index in not_rated_products_indices:\n",
    "    print(f'Продукт {not_rated_product_index}:')\n",
    "    avg_rating = users_rankings[not_rated_product_index, :].mean()\n",
    "    print(f'Средняя оценка продукта от пользователей: {avg_rating}')\n",
    "    cos_similarity = similarity_matrix[np.nonzero(\n",
    "        similarity_matrix[:, user_index_in_similarity_matrix]\n",
    "    ), user_index_in_similarity_matrix]\n",
    "    rating_diff = users_rankings[not_rated_product_index, :] - avg_rating\n",
    "    print(f'Дифференциация рейтингов по продукту: {rating_diff}')\n",
    "    calculated_rating = avg_user_rating + np.sum(rating_diff * cos_similarity) / np.sum(np.abs(cos_similarity))\n",
    "    print(f'Рассчитанная оценка: {calculated_rating}')\n",
    "    print(f'Вердикт: {\"РЕКОМЕНДОВАН\" if calculated_rating > avg_user_rating else \"НЕ РЕКОМЕНДОВАН\"} '\n",
    "          f'пользователю #{user_index}.\\n')\n"
   ],
   "id": "b0f576f80c993d1d",
   "outputs": [
    {
     "name": "stdout",
     "output_type": "stream",
     "text": [
      "Продукт 3:\n",
      "Средняя оценка продукта от пользователей: 4.0\n",
      "Дифференциация рейтингов по продукту: [ 1. -1.  1.  0. -1. -1.  1.]\n",
      "Рассчитанная оценка: 2.718653198066379\n",
      "Вердикт: НЕ РЕКОМЕНДОВАН пользователю #3.\n",
      "\n",
      "Продукт 4:\n",
      "Средняя оценка продукта от пользователей: 4.0\n",
      "Дифференциация рейтингов по продукту: [ 1.  0.  1.  0.  0. -3.  1.]\n",
      "Рассчитанная оценка: 2.7943693920298824\n",
      "Вердикт: РЕКОМЕНДОВАН пользователю #3.\n",
      "\n"
     ]
    }
   ],
   "execution_count": 15
  },
  {
   "metadata": {},
   "cell_type": "markdown",
   "source": "# Формирование рекомендаций для нового пользователя",
   "id": "21416d2dea87d26"
  },
  {
   "metadata": {
    "ExecuteTime": {
     "end_time": "2024-11-01T07:17:54.120906Z",
     "start_time": "2024-11-01T07:17:54.118540Z"
    }
   },
   "cell_type": "code",
   "source": "user_index = 5",
   "id": "3758b80b1b96b8b5",
   "outputs": [],
   "execution_count": 16
  },
  {
   "metadata": {
    "ExecuteTime": {
     "end_time": "2024-11-01T07:17:54.172221Z",
     "start_time": "2024-11-01T07:17:54.168948Z"
    }
   },
   "cell_type": "code",
   "source": [
    "# Заменяем 0 в матрице на NaN для того, чтобы значения не учитывались в расчете среднего значения рейтинга по продукту.\n",
    "nan_instead_zeros_input_data = input_data.copy()\n",
    "nan_instead_zeros_input_data[nan_instead_zeros_input_data == 0] = np.nan\n",
    "nan_instead_zeros_input_data"
   ],
   "id": "4ab9ac65e0e85529",
   "outputs": [
    {
     "data": {
      "text/plain": [
       "array([[ 5.,  4.,  5.,  3.,  5., nan,  5.,  5.,  4.,  3.,  5.],\n",
       "       [ 5.,  5.,  5.,  3.,  5., nan,  5.,  4.,  4.,  2.,  5.],\n",
       "       [ 5.,  4.,  4.,  2.,  5., nan,  5.,  3.,  3., nan,  3.],\n",
       "       [ 5.,  3.,  3., nan,  3., nan,  5.,  4.,  3.,  3.,  5.],\n",
       "       [ 5., nan,  4., nan, nan, nan,  5.,  4.,  4.,  1.,  5.],\n",
       "       [ 4.,  5.,  5.,  3.,  1., nan,  5., nan,  4.,  1., nan]])"
      ]
     },
     "execution_count": 17,
     "metadata": {},
     "output_type": "execute_result"
    }
   ],
   "execution_count": 17
  },
  {
   "metadata": {
    "ExecuteTime": {
     "end_time": "2024-11-01T07:17:54.240709Z",
     "start_time": "2024-11-01T07:17:54.236733Z"
    }
   },
   "cell_type": "code",
   "source": [
    "# Получение массива средних значений рейтинга по продуктам.\n",
    "averages_products_rating = np.nanmean(nan_instead_zeros_input_data, axis=1)\n",
    "averages_products_rating"
   ],
   "id": "b3bacb5627fded04",
   "outputs": [
    {
     "data": {
      "text/plain": [
       "array([4.4       , 4.3       , 3.77777778, 3.77777778, 4.        ,\n",
       "       3.5       ])"
      ]
     },
     "execution_count": 18,
     "metadata": {},
     "output_type": "execute_result"
    }
   ],
   "execution_count": 18
  },
  {
   "metadata": {
    "ExecuteTime": {
     "end_time": "2024-11-01T07:17:54.285836Z",
     "start_time": "2024-11-01T07:17:54.282866Z"
    }
   },
   "cell_type": "code",
   "source": [
    "max_rated_product_index = np.argmax(averages_products_rating)\n",
    "print(f'Рекомендовать новому пользователю продукт #{max_rated_product_index} '\n",
    "      f'(средний рейтинг == {averages_products_rating[max_rated_product_index]}).')"
   ],
   "id": "b49c782b0f7a6429",
   "outputs": [
    {
     "name": "stdout",
     "output_type": "stream",
     "text": [
      "Рекомендовать новому пользователю продукт #0 (средний рейтинг == 4.4).\n"
     ]
    }
   ],
   "execution_count": 19
  }
 ],
 "metadata": {
  "kernelspec": {
   "display_name": "Python 3",
   "language": "python",
   "name": "python3"
  },
  "language_info": {
   "codemirror_mode": {
    "name": "ipython",
    "version": 2
   },
   "file_extension": ".py",
   "mimetype": "text/x-python",
   "name": "python",
   "nbconvert_exporter": "python",
   "pygments_lexer": "ipython2",
   "version": "2.7.6"
  }
 },
 "nbformat": 4,
 "nbformat_minor": 5
}
