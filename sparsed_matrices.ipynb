{
 "cells": [
  {
   "cell_type": "code",
   "execution_count": 1,
   "metadata": {},
   "outputs": [],
   "source": [
    "from IPython.display import display\n",
    "import numpy as np\n"
   ]
  },
  {
   "cell_type": "code",
   "execution_count": 2,
   "metadata": {},
   "outputs": [
    {
     "data": {
      "text/plain": [
       "array([[1, 0, 0, 0, 2, 0],\n",
       "       [0, 0, 3, 4, 0, 0],\n",
       "       [0, 0, 0, 0, 0, 0],\n",
       "       [0, 0, 0, 8, 0, 5],\n",
       "       [0, 0, 0, 0, 0, 0],\n",
       "       [0, 7, 1, 0, 0, 6]])"
      ]
     },
     "execution_count": 2,
     "metadata": {},
     "output_type": "execute_result"
    }
   ],
   "source": [
    "# Входные данные\n",
    "input_data = np.array(\n",
    "    [\n",
    "        [1, 0, 0, 0, 2, 0],\n",
    "        [0, 0, 3, 4, 0, 0],\n",
    "        [0, 0, 0, 0, 0, 0],\n",
    "        [0, 0, 0, 8, 0, 5],\n",
    "        [0, 0, 0, 0, 0, 0],\n",
    "        [0, 7, 1, 0, 0, 6],\n",
    "    ],\n",
    "    dtype=int,\n",
    ")\n",
    "input_data\n"
   ]
  },
  {
   "cell_type": "markdown",
   "metadata": {},
   "source": [
    "# Получение индексов ненулевых элементов"
   ]
  },
  {
   "cell_type": "code",
   "execution_count": 3,
   "metadata": {},
   "outputs": [
    {
     "data": {
      "text/plain": [
       "(array([0, 0, 1, 1, 3, 3, 5, 5, 5]), array([0, 4, 2, 3, 3, 5, 1, 2, 5]))"
      ]
     },
     "execution_count": 3,
     "metadata": {},
     "output_type": "execute_result"
    }
   ],
   "source": [
    "non_zeros_rows, non_zeros_cols = input_data.nonzero()\n",
    "non_zeros_rows, non_zeros_cols"
   ]
  },
  {
   "cell_type": "code",
   "execution_count": 4,
   "metadata": {},
   "outputs": [
    {
     "data": {
      "text/plain": [
       "array([1, 2, 3, 4, 8, 5, 7, 1, 6])"
      ]
     },
     "execution_count": 4,
     "metadata": {},
     "output_type": "execute_result"
    }
   ],
   "source": [
    "non_zeros_values = np.array([\n",
    "    input_data[i, j]\n",
    "    for i, j in zip(non_zeros_rows.tolist(), non_zeros_cols.tolist())\n",
    "])\n",
    "non_zeros_values"
   ]
  },
  {
   "cell_type": "code",
   "execution_count": 5,
   "metadata": {},
   "outputs": [
    {
     "name": "stdout",
     "output_type": "stream",
     "text": [
      "Rows:\n"
     ]
    },
    {
     "data": {
      "text/plain": [
       "array([0, 0, 1, 1, 3, 3, 5, 5, 5])"
      ]
     },
     "metadata": {},
     "output_type": "display_data"
    },
    {
     "name": "stdout",
     "output_type": "stream",
     "text": [
      "Columns:\n"
     ]
    },
    {
     "data": {
      "text/plain": [
       "array([0, 4, 2, 3, 3, 5, 1, 2, 5])"
      ]
     },
     "metadata": {},
     "output_type": "display_data"
    },
    {
     "name": "stdout",
     "output_type": "stream",
     "text": [
      "Values:\n"
     ]
    },
    {
     "data": {
      "text/plain": [
       "array([1, 2, 3, 4, 8, 5, 7, 1, 6])"
      ]
     },
     "metadata": {},
     "output_type": "display_data"
    }
   ],
   "source": [
    "print('Rows:'); display(non_zeros_rows)\n",
    "print('Columns:'); display(non_zeros_cols)\n",
    "print('Values:'); display(non_zeros_values)"
   ]
  },
  {
   "cell_type": "markdown",
   "metadata": {},
   "source": [
    "# Формирование массива Row Index"
   ]
  },
  {
   "cell_type": "code",
   "execution_count": 6,
   "metadata": {},
   "outputs": [],
   "source": [
    "from collections import Counter"
   ]
  },
  {
   "cell_type": "code",
   "execution_count": 7,
   "metadata": {},
   "outputs": [
    {
     "data": {
      "text/plain": [
       "({np.int64(0): 2, np.int64(1): 2, np.int64(3): 2, np.int64(5): 3},\n",
       " [np.int64(0), np.int64(1), np.int64(3), np.int64(5)])"
      ]
     },
     "execution_count": 7,
     "metadata": {},
     "output_type": "execute_result"
    }
   ],
   "source": [
    "rows_indices_conter = Counter(list(non_zeros_rows))\n",
    "indices_counts_map = dict(rows_indices_conter)\n",
    "sorted_indices = sorted(indices_counts_map)\n",
    "indices_counts_map, sorted_indices"
   ]
  },
  {
   "cell_type": "code",
   "execution_count": 8,
   "metadata": {},
   "outputs": [
    {
     "data": {
      "text/plain": [
       "[0, 2, 4, 4, 6, 6]"
      ]
     },
     "execution_count": 8,
     "metadata": {},
     "output_type": "execute_result"
    }
   ],
   "source": [
    "non_zeros_rows_indices = [0]\n",
    "\n",
    "for i in range(sorted_indices[-1]):\n",
    "    if count := indices_counts_map.get(i):\n",
    "        non_zeros_rows_indices.append(non_zeros_rows_indices[-1] + count)\n",
    "    else:\n",
    "        non_zeros_rows_indices.append(non_zeros_rows_indices[-1])\n",
    "\n",
    "non_zeros_rows_indices"
   ]
  },
  {
   "cell_type": "code",
   "execution_count": 9,
   "metadata": {},
   "outputs": [
    {
     "name": "stdout",
     "output_type": "stream",
     "text": [
      "Rows Indices:\n"
     ]
    },
    {
     "data": {
      "text/plain": [
       "array([0, 2, 4, 4, 6, 6])"
      ]
     },
     "metadata": {},
     "output_type": "display_data"
    },
    {
     "name": "stdout",
     "output_type": "stream",
     "text": [
      "Columns:\n"
     ]
    },
    {
     "data": {
      "text/plain": [
       "array([0, 4, 2, 3, 3, 5, 1, 2, 5])"
      ]
     },
     "metadata": {},
     "output_type": "display_data"
    },
    {
     "name": "stdout",
     "output_type": "stream",
     "text": [
      "Values:\n"
     ]
    },
    {
     "data": {
      "text/plain": [
       "array([1, 2, 3, 4, 8, 5, 7, 1, 6])"
      ]
     },
     "metadata": {},
     "output_type": "display_data"
    }
   ],
   "source": [
    "print('Rows Indices:'); display(np.array(non_zeros_rows_indices))\n",
    "print('Columns:'); display(non_zeros_cols)\n",
    "print('Values:'); display(non_zeros_values)"
   ]
  },
  {
   "cell_type": "markdown",
   "metadata": {},
   "source": [
    "# Формирование матриц Value и Column"
   ]
  },
  {
   "cell_type": "code",
   "execution_count": 10,
   "metadata": {},
   "outputs": [
    {
     "data": {
      "text/plain": [
       "(6, 3)"
      ]
     },
     "execution_count": 10,
     "metadata": {},
     "output_type": "execute_result"
    }
   ],
   "source": [
    "total_rows_count = input_data.shape[0]\n",
    "((_, most_rich_row_count),) = rows_indices_conter.most_common(1)\n",
    "\n",
    "matrix_shape = (total_rows_count, most_rich_row_count)\n",
    "matrix_shape"
   ]
  },
  {
   "cell_type": "code",
   "execution_count": 11,
   "metadata": {},
   "outputs": [
    {
     "data": {
      "text/plain": [
       "(array([[0, 0, 0],\n",
       "        [0, 0, 0],\n",
       "        [0, 0, 0],\n",
       "        [0, 0, 0],\n",
       "        [0, 0, 0],\n",
       "        [0, 0, 0]]),\n",
       " array([[0, 0, 0],\n",
       "        [0, 0, 0],\n",
       "        [0, 0, 0],\n",
       "        [0, 0, 0],\n",
       "        [0, 0, 0],\n",
       "        [0, 0, 0]]))"
      ]
     },
     "execution_count": 11,
     "metadata": {},
     "output_type": "execute_result"
    }
   ],
   "source": [
    "matrix_of_values = np.zeros(matrix_shape, dtype=int)\n",
    "matrix_of_columns = np.zeros(matrix_shape, dtype=int)\n",
    "matrix_of_values, matrix_of_columns"
   ]
  },
  {
   "cell_type": "code",
   "execution_count": 12,
   "metadata": {},
   "outputs": [],
   "source": [
    "current_index = 0\n",
    "\n",
    "for row, row_count in indices_counts_map.items():\n",
    "    for matrix_col in range(row_count):\n",
    "        matrix_of_values[row, matrix_col] = non_zeros_values[current_index]\n",
    "        matrix_of_columns[row, matrix_col] = non_zeros_cols[current_index]\n",
    "        current_index += 1\n"
   ]
  },
  {
   "cell_type": "code",
   "execution_count": 13,
   "metadata": {},
   "outputs": [
    {
     "name": "stdout",
     "output_type": "stream",
     "text": [
      "Columns:\n"
     ]
    },
    {
     "data": {
      "text/plain": [
       "array([[0, 4, 0],\n",
       "       [2, 3, 0],\n",
       "       [0, 0, 0],\n",
       "       [3, 5, 0],\n",
       "       [0, 0, 0],\n",
       "       [1, 2, 5]])"
      ]
     },
     "metadata": {},
     "output_type": "display_data"
    },
    {
     "name": "stdout",
     "output_type": "stream",
     "text": [
      "Values:\n"
     ]
    },
    {
     "data": {
      "text/plain": [
       "array([[1, 2, 0],\n",
       "       [3, 4, 0],\n",
       "       [0, 0, 0],\n",
       "       [8, 5, 0],\n",
       "       [0, 0, 0],\n",
       "       [7, 1, 6]])"
      ]
     },
     "metadata": {},
     "output_type": "display_data"
    }
   ],
   "source": [
    "print('Columns:'); display(matrix_of_columns)\n",
    "print('Values:'); display(matrix_of_values)"
   ]
  },
  {
   "cell_type": "markdown",
   "metadata": {},
   "source": [
    "# Исключение:\n",
    "\n",
    "- Товаров с нулевым рейтингом;\n",
    "- Товаров с низким рейтингом (<4);\n",
    "- Неактивных пользователей."
   ]
  },
  {
   "cell_type": "code",
   "execution_count": 14,
   "metadata": {},
   "outputs": [
    {
     "data": {
      "text/plain": [
       "array([[5, 4, 5, 0, 5],\n",
       "       [5, 5, 5, 0, 5],\n",
       "       [5, 4, 4, 0, 5],\n",
       "       [4, 3, 4, 0, 3],\n",
       "       [0, 0, 0, 0, 0],\n",
       "       [4, 5, 5, 0, 1]])"
      ]
     },
     "execution_count": 14,
     "metadata": {},
     "output_type": "execute_result"
    }
   ],
   "source": [
    "# Входные данные\n",
    "input_data = np.array(\n",
    "    [\n",
    "        [5, 4, 5, 0, 5],\n",
    "        [5, 5, 5, 0, 5],\n",
    "        [5, 4, 4, 0, 5],\n",
    "        [4, 3, 4, 0, 3],\n",
    "        [0, 0, 0, 0, 0],\n",
    "        [4, 5, 5, 0, 1],\n",
    "    ],\n",
    "    dtype=int,\n",
    ")\n",
    "input_data"
   ]
  },
  {
   "cell_type": "code",
   "execution_count": 15,
   "metadata": {},
   "outputs": [
    {
     "data": {
      "text/plain": [
       "array([[5, 4, 5, 0, 5],\n",
       "       [5, 5, 5, 0, 5],\n",
       "       [5, 4, 4, 0, 5],\n",
       "       [4, 3, 4, 0, 3],\n",
       "       [4, 5, 5, 0, 1]])"
      ]
     },
     "execution_count": 15,
     "metadata": {},
     "output_type": "execute_result"
    }
   ],
   "source": [
    "# Исключение товаров с нулевым рейтингом.\n",
    "sparsed_matrix = input_data[~np.all(input_data == 0, axis=1)]\n",
    "sparsed_matrix"
   ]
  },
  {
   "cell_type": "code",
   "execution_count": 16,
   "metadata": {},
   "outputs": [
    {
     "data": {
      "text/plain": [
       "array([[5, 4, 5, 5],\n",
       "       [5, 5, 5, 5],\n",
       "       [5, 4, 4, 5],\n",
       "       [4, 3, 4, 3],\n",
       "       [4, 5, 5, 1]])"
      ]
     },
     "execution_count": 16,
     "metadata": {},
     "output_type": "execute_result"
    }
   ],
   "source": [
    "# Исключение товаров с низким рейтингом.\n",
    "sparsed_matrix = sparsed_matrix[:, ~np.all(sparsed_matrix == 0, axis=0)]\n",
    "sparsed_matrix"
   ]
  },
  {
   "cell_type": "code",
   "execution_count": 17,
   "metadata": {},
   "outputs": [
    {
     "data": {
      "text/plain": [
       "array([[5, 4, 5, 5],\n",
       "       [5, 5, 5, 5],\n",
       "       [5, 4, 4, 5]])"
      ]
     },
     "execution_count": 17,
     "metadata": {},
     "output_type": "execute_result"
    }
   ],
   "source": [
    "sparsed_matrix = sparsed_matrix[np.mean(sparsed_matrix, axis=1) >= 4]\n",
    "sparsed_matrix"
   ]
  },
  {
   "cell_type": "code",
   "execution_count": 18,
   "metadata": {},
   "outputs": [
    {
     "name": "stdout",
     "output_type": "stream",
     "text": [
      "Sparsed matrix:\n"
     ]
    },
    {
     "data": {
      "text/plain": [
       "array([[5, 4, 5, 5],\n",
       "       [5, 5, 5, 5],\n",
       "       [5, 4, 4, 5]])"
      ]
     },
     "metadata": {},
     "output_type": "display_data"
    }
   ],
   "source": [
    "print('Sparsed matrix:'); display(sparsed_matrix)"
   ]
  }
 ],
 "metadata": {
  "kernelspec": {
   "display_name": "venv",
   "language": "python",
   "name": "python3"
  },
  "language_info": {
   "codemirror_mode": {
    "name": "ipython",
    "version": 3
   },
   "file_extension": ".py",
   "mimetype": "text/x-python",
   "name": "python",
   "nbconvert_exporter": "python",
   "pygments_lexer": "ipython3",
   "version": "3.10.14"
  }
 },
 "nbformat": 4,
 "nbformat_minor": 2
}
