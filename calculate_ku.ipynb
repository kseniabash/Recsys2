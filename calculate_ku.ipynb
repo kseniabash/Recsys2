{
 "cells": [
  {
   "cell_type": "code",
   "id": "initial_id",
   "metadata": {
    "collapsed": true,
    "ExecuteTime": {
     "end_time": "2024-11-21T18:26:03.068536Z",
     "start_time": "2024-11-21T18:26:03.062150Z"
    }
   },
   "source": [
    "# Функция расчета MD | MND\n",
    "calculate_cf = lambda cf1, cf2, cf3, cf4: min(cf1, cf2) + max(cf3, cf4) * (1 - min(cf1, cf2))"
   ],
   "outputs": [],
   "execution_count": 1
  },
  {
   "metadata": {
    "ExecuteTime": {
     "end_time": "2024-11-21T18:26:03.140713Z",
     "start_time": "2024-11-21T18:26:03.135703Z"
    }
   },
   "cell_type": "code",
   "source": [
    "md1, md2 = 0.8, 0.75\n",
    "md3, md4 = 0.4, 0.85\n",
    "md_e1_e2 = calculate_cf(md1, md2, md3, md4)\n",
    "print('MD[H:E1,E2] =', md_e1_e2)"
   ],
   "id": "2fdd2cf3637176ab",
   "outputs": [
    {
     "name": "stdout",
     "output_type": "stream",
     "text": [
      "MD[H:E1,E2] = 0.9625\n"
     ]
    }
   ],
   "execution_count": 2
  },
  {
   "metadata": {
    "ExecuteTime": {
     "end_time": "2024-11-21T18:26:03.314845Z",
     "start_time": "2024-11-21T18:26:03.310952Z"
    }
   },
   "cell_type": "code",
   "source": [
    "mnd1, mnd2 = 0.3, 0.25\n",
    "mnd3, mnd4 = 0.5, 0.2\n",
    "mnd_e1_e2 = calculate_cf(mnd1, mnd2, mnd3, mnd4)\n",
    "print('MND[H:E1,E2] =', mnd_e1_e2)"
   ],
   "id": "cbee01b6711f41ec",
   "outputs": [
    {
     "name": "stdout",
     "output_type": "stream",
     "text": [
      "MND[H:E1,E2] = 0.625\n"
     ]
    }
   ],
   "execution_count": 3
  },
  {
   "metadata": {
    "ExecuteTime": {
     "end_time": "2024-11-21T18:26:03.430361Z",
     "start_time": "2024-11-21T18:26:03.426933Z"
    }
   },
   "cell_type": "code",
   "source": [
    "ku_e1_e2 = md_e1_e2 - mnd_e1_e2\n",
    "print('KU[H:E1,E2] =', ku_e1_e2)"
   ],
   "id": "e61860f3a401a012",
   "outputs": [
    {
     "name": "stdout",
     "output_type": "stream",
     "text": [
      "KU[H:E1,E2] = 0.3375\n"
     ]
    }
   ],
   "execution_count": 4
  }
 ],
 "metadata": {
  "kernelspec": {
   "display_name": "Python 3",
   "language": "python",
   "name": "python3"
  },
  "language_info": {
   "codemirror_mode": {
    "name": "ipython",
    "version": 2
   },
   "file_extension": ".py",
   "mimetype": "text/x-python",
   "name": "python",
   "nbconvert_exporter": "python",
   "pygments_lexer": "ipython2",
   "version": "2.7.6"
  }
 },
 "nbformat": 4,
 "nbformat_minor": 5
}
